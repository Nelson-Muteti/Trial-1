{
  "nbformat": 4,
  "nbformat_minor": 0,
  "metadata": {
    "colab": {
      "name": "Copy of Pandas Basics II",
      "provenance": [],
      "collapsed_sections": [
        "9_XCQAP5sF5r",
        "C2opvjY3p6zc",
        "BfpO_aWfsXXQ",
        "IwxDABvUp97g",
        "66Fjm3xmslG7",
        "7jHC3c0jqFHy",
        "yOI_UEXDs0XI"
      ],
      "toc_visible": true,
      "include_colab_link": true
    },
    "kernelspec": {
      "name": "python3",
      "display_name": "Python 3"
    }
  },
  "cells": [
    {
      "cell_type": "markdown",
      "metadata": {
        "id": "view-in-github",
        "colab_type": "text"
      },
      "source": [
        "<a href=\"https://colab.research.google.com/github/Nelson-Muteti/Trial-1/blob/main/Copy_of_Pandas_Basics_II.ipynb\" target=\"_parent\"><img src=\"https://colab.research.google.com/assets/colab-badge.svg\" alt=\"Open In Colab\"/></a>"
      ]
    },
    {
      "cell_type": "markdown",
      "metadata": {
        "id": "9I110jHWZkwL"
      },
      "source": [
        "<font color=\"green\">*To start working on this notebook, or any other notebook that we will use in the Moringa Data Science Course, we will need to save our own copy of it. We can do this by clicking File > Save a Copy in Drive. We will then be able to make edits to our own copy of this notebook.*</font>"
      ]
    },
    {
      "cell_type": "markdown",
      "metadata": {
        "id": "YW4SN5OupJfN"
      },
      "source": [
        "# Pandas Basics II\n"
      ]
    },
    {
      "cell_type": "markdown",
      "metadata": {
        "id": "v2Rb2q_Epd9P"
      },
      "source": [
        "## 1.0 Importing the Libraries to be used "
      ]
    },
    {
      "cell_type": "code",
      "metadata": {
        "id": "frw-YOvjpCiw"
      },
      "source": [
        "# Let's import the pandas library\n",
        "#\n",
        "# OUR CODE GOES HERE\n",
        "import pandas as pd\n",
        "# as well as the Numpy library\n",
        "import numpy as np\n",
        "\n",
        "# OUR CODE GOES HERE"
      ],
      "execution_count": null,
      "outputs": []
    },
    {
      "cell_type": "markdown",
      "metadata": {
        "id": "5b5cMg9vpg3D"
      },
      "source": [
        "## 1.1 Loading our Datasets"
      ]
    },
    {
      "cell_type": "code",
      "metadata": {
        "id": "-9gmYBvxptCI",
        "colab": {
          "base_uri": "https://localhost:8080/",
          "height": 427
        },
        "outputId": "d27f15b7-0c2f-4825-c439-8ca4efd79929"
      },
      "source": [
        "# Example 1\n",
        "# We will begin learning how we can load datasets from different types of sources\n",
        "# Let's first begin with loading datasets from a JSON file \n",
        "#\n",
        "\n",
        "\n",
        "# First, we get the URL to the JSON file (alternatively this can be a filepath)\n",
        "url = 'https://raw.githubusercontent.com/algolia/datasets/master/airports/airports.json'\n",
        "\n",
        "# Then load, the first sheet of the JSON file into a data frame. \n",
        "# We are going to use pandas read_json method. This method works the same as read_csv. You can read more about it from the documentation: https://pandas.pydata.org/pandas-docs/stable/reference/api/pandas.read_json.html\n",
        "df = pd.read_json(url, orient='columns')\n",
        "\n",
        "# Lastly, view the first ten rows\n",
        "df.head(10)"
      ],
      "execution_count": null,
      "outputs": [
        {
          "output_type": "execute_result",
          "data": {
            "text/html": [
              "<div>\n",
              "<style scoped>\n",
              "    .dataframe tbody tr th:only-of-type {\n",
              "        vertical-align: middle;\n",
              "    }\n",
              "\n",
              "    .dataframe tbody tr th {\n",
              "        vertical-align: top;\n",
              "    }\n",
              "\n",
              "    .dataframe thead th {\n",
              "        text-align: right;\n",
              "    }\n",
              "</style>\n",
              "<table border=\"1\" class=\"dataframe\">\n",
              "  <thead>\n",
              "    <tr style=\"text-align: right;\">\n",
              "      <th></th>\n",
              "      <th>name</th>\n",
              "      <th>city</th>\n",
              "      <th>country</th>\n",
              "      <th>iata_code</th>\n",
              "      <th>_geoloc</th>\n",
              "      <th>links_count</th>\n",
              "      <th>objectID</th>\n",
              "    </tr>\n",
              "  </thead>\n",
              "  <tbody>\n",
              "    <tr>\n",
              "      <th>0</th>\n",
              "      <td>Hartsfield Jackson Atlanta Intl</td>\n",
              "      <td>Atlanta</td>\n",
              "      <td>United States</td>\n",
              "      <td>ATL</td>\n",
              "      <td>{'lat': 33.636719, 'lng': -84.428067}</td>\n",
              "      <td>1826</td>\n",
              "      <td>3682</td>\n",
              "    </tr>\n",
              "    <tr>\n",
              "      <th>1</th>\n",
              "      <td>Chicago Ohare Intl</td>\n",
              "      <td>Chicago</td>\n",
              "      <td>United States</td>\n",
              "      <td>ORD</td>\n",
              "      <td>{'lat': 41.978603, 'lng': -87.904842}</td>\n",
              "      <td>1108</td>\n",
              "      <td>3830</td>\n",
              "    </tr>\n",
              "    <tr>\n",
              "      <th>2</th>\n",
              "      <td>Capital Intl</td>\n",
              "      <td>Beijing</td>\n",
              "      <td>China</td>\n",
              "      <td>PEK</td>\n",
              "      <td>{'lat': 40.080111, 'lng': 116.584556}</td>\n",
              "      <td>1069</td>\n",
              "      <td>3364</td>\n",
              "    </tr>\n",
              "    <tr>\n",
              "      <th>3</th>\n",
              "      <td>Heathrow</td>\n",
              "      <td>London</td>\n",
              "      <td>United Kingdom</td>\n",
              "      <td>LHR</td>\n",
              "      <td>{'lat': 51.4775, 'lng': -0.461389}</td>\n",
              "      <td>1051</td>\n",
              "      <td>507</td>\n",
              "    </tr>\n",
              "    <tr>\n",
              "      <th>4</th>\n",
              "      <td>Charles De Gaulle</td>\n",
              "      <td>Paris</td>\n",
              "      <td>France</td>\n",
              "      <td>CDG</td>\n",
              "      <td>{'lat': 49.012779, 'lng': 2.55}</td>\n",
              "      <td>1041</td>\n",
              "      <td>1382</td>\n",
              "    </tr>\n",
              "    <tr>\n",
              "      <th>5</th>\n",
              "      <td>Los Angeles Intl</td>\n",
              "      <td>Los Angeles</td>\n",
              "      <td>United States</td>\n",
              "      <td>LAX</td>\n",
              "      <td>{'lat': 33.942536, 'lng': -118.408075}</td>\n",
              "      <td>990</td>\n",
              "      <td>3484</td>\n",
              "    </tr>\n",
              "    <tr>\n",
              "      <th>6</th>\n",
              "      <td>Frankfurt Main</td>\n",
              "      <td>Frankfurt</td>\n",
              "      <td>Germany</td>\n",
              "      <td>FRA</td>\n",
              "      <td>{'lat': 50.026421, 'lng': 8.543125}</td>\n",
              "      <td>990</td>\n",
              "      <td>340</td>\n",
              "    </tr>\n",
              "    <tr>\n",
              "      <th>7</th>\n",
              "      <td>Dallas Fort Worth Intl</td>\n",
              "      <td>Dallas-Fort Worth</td>\n",
              "      <td>United States</td>\n",
              "      <td>DFW</td>\n",
              "      <td>{'lat': 32.896828, 'lng': -97.037997}</td>\n",
              "      <td>936</td>\n",
              "      <td>3670</td>\n",
              "    </tr>\n",
              "    <tr>\n",
              "      <th>8</th>\n",
              "      <td>John F Kennedy Intl</td>\n",
              "      <td>New York</td>\n",
              "      <td>United States</td>\n",
              "      <td>JFK</td>\n",
              "      <td>{'lat': 40.639751, 'lng': -73.778925}</td>\n",
              "      <td>911</td>\n",
              "      <td>3797</td>\n",
              "    </tr>\n",
              "    <tr>\n",
              "      <th>9</th>\n",
              "      <td>Schiphol</td>\n",
              "      <td>Amsterdam</td>\n",
              "      <td>Netherlands</td>\n",
              "      <td>AMS</td>\n",
              "      <td>{'lat': 52.308613, 'lng': 4.763889}</td>\n",
              "      <td>903</td>\n",
              "      <td>580</td>\n",
              "    </tr>\n",
              "  </tbody>\n",
              "</table>\n",
              "</div>"
            ],
            "text/plain": [
              "                              name               city  ... links_count objectID\n",
              "0  Hartsfield Jackson Atlanta Intl            Atlanta  ...        1826     3682\n",
              "1               Chicago Ohare Intl            Chicago  ...        1108     3830\n",
              "2                     Capital Intl            Beijing  ...        1069     3364\n",
              "3                         Heathrow             London  ...        1051      507\n",
              "4                Charles De Gaulle              Paris  ...        1041     1382\n",
              "5                 Los Angeles Intl        Los Angeles  ...         990     3484\n",
              "6                   Frankfurt Main          Frankfurt  ...         990      340\n",
              "7           Dallas Fort Worth Intl  Dallas-Fort Worth  ...         936     3670\n",
              "8              John F Kennedy Intl           New York  ...         911     3797\n",
              "9                         Schiphol          Amsterdam  ...         903      580\n",
              "\n",
              "[10 rows x 7 columns]"
            ]
          },
          "metadata": {
            "tags": []
          },
          "execution_count": 2
        }
      ]
    },
    {
      "cell_type": "code",
      "metadata": {
        "id": "xaY5MQdxptu0",
        "colab": {
          "base_uri": "https://localhost:8080/",
          "height": 359
        },
        "outputId": "3577c7b5-8643-4c00-fa05-9e0f4a19b368"
      },
      "source": [
        "# Example 2\n",
        "# We can also load an Excel file as shown below\n",
        "# \n",
        "\n",
        "# We create a URL to Excel file (alternatively this can be a filepath)\n",
        "url = 'https://raw.githubusercontent.com/chrisalbon/simulated_datasets/master/data.xlsx'\n",
        "\n",
        "# Then load the first sheet of the Excel file into a data frame\n",
        "df = pd.read_excel(url, header=1)\n",
        "\n",
        "# Lastly, view the first ten rows\n",
        "df.head(10)"
      ],
      "execution_count": null,
      "outputs": [
        {
          "output_type": "execute_result",
          "data": {
            "text/html": [
              "<div>\n",
              "<style scoped>\n",
              "    .dataframe tbody tr th:only-of-type {\n",
              "        vertical-align: middle;\n",
              "    }\n",
              "\n",
              "    .dataframe tbody tr th {\n",
              "        vertical-align: top;\n",
              "    }\n",
              "\n",
              "    .dataframe thead th {\n",
              "        text-align: right;\n",
              "    }\n",
              "</style>\n",
              "<table border=\"1\" class=\"dataframe\">\n",
              "  <thead>\n",
              "    <tr style=\"text-align: right;\">\n",
              "      <th></th>\n",
              "      <th>5</th>\n",
              "      <th>2015-01-01 00:00:00</th>\n",
              "      <th>0</th>\n",
              "    </tr>\n",
              "  </thead>\n",
              "  <tbody>\n",
              "    <tr>\n",
              "      <th>0</th>\n",
              "      <td>5</td>\n",
              "      <td>2015-01-01 00:00:01</td>\n",
              "      <td>0</td>\n",
              "    </tr>\n",
              "    <tr>\n",
              "      <th>1</th>\n",
              "      <td>9</td>\n",
              "      <td>2015-01-01 00:00:02</td>\n",
              "      <td>0</td>\n",
              "    </tr>\n",
              "    <tr>\n",
              "      <th>2</th>\n",
              "      <td>6</td>\n",
              "      <td>2015-01-01 00:00:03</td>\n",
              "      <td>0</td>\n",
              "    </tr>\n",
              "    <tr>\n",
              "      <th>3</th>\n",
              "      <td>6</td>\n",
              "      <td>2015-01-01 00:00:04</td>\n",
              "      <td>0</td>\n",
              "    </tr>\n",
              "    <tr>\n",
              "      <th>4</th>\n",
              "      <td>9</td>\n",
              "      <td>2015-01-01 00:00:05</td>\n",
              "      <td>0</td>\n",
              "    </tr>\n",
              "    <tr>\n",
              "      <th>5</th>\n",
              "      <td>7</td>\n",
              "      <td>2015-01-01 00:00:06</td>\n",
              "      <td>0</td>\n",
              "    </tr>\n",
              "    <tr>\n",
              "      <th>6</th>\n",
              "      <td>1</td>\n",
              "      <td>2015-01-01 00:00:07</td>\n",
              "      <td>0</td>\n",
              "    </tr>\n",
              "    <tr>\n",
              "      <th>7</th>\n",
              "      <td>6</td>\n",
              "      <td>2015-01-01 00:00:08</td>\n",
              "      <td>0</td>\n",
              "    </tr>\n",
              "    <tr>\n",
              "      <th>8</th>\n",
              "      <td>9</td>\n",
              "      <td>2015-01-01 00:00:09</td>\n",
              "      <td>0</td>\n",
              "    </tr>\n",
              "    <tr>\n",
              "      <th>9</th>\n",
              "      <td>5</td>\n",
              "      <td>2015-01-01 00:00:10</td>\n",
              "      <td>0</td>\n",
              "    </tr>\n",
              "  </tbody>\n",
              "</table>\n",
              "</div>"
            ],
            "text/plain": [
              "   5 2015-01-01 00:00:00  0\n",
              "0  5 2015-01-01 00:00:01  0\n",
              "1  9 2015-01-01 00:00:02  0\n",
              "2  6 2015-01-01 00:00:03  0\n",
              "3  6 2015-01-01 00:00:04  0\n",
              "4  9 2015-01-01 00:00:05  0\n",
              "5  7 2015-01-01 00:00:06  0\n",
              "6  1 2015-01-01 00:00:07  0\n",
              "7  6 2015-01-01 00:00:08  0\n",
              "8  9 2015-01-01 00:00:09  0\n",
              "9  5 2015-01-01 00:00:10  0"
            ]
          },
          "metadata": {
            "tags": []
          },
          "execution_count": 3
        }
      ]
    },
    {
      "cell_type": "code",
      "metadata": {
        "id": "sfmKllkvptir",
        "colab": {
          "base_uri": "https://localhost:8080/",
          "height": 204
        },
        "outputId": "0d88ea14-8054-4d6b-ba82-d7ef7cd6b78a"
      },
      "source": [
        "# Example 3\n",
        "# We can also load A CSV Into pandas\n",
        "# \n",
        "\n",
        "# We create a csv file or import from a url\n",
        "\n",
        "# First, creating a dataframe (that we will be importing)\n",
        "raw_data = {'first_name': ['Jason', 'Molly', 'Tina', 'Jake', 'Amy'], \n",
        "        'last_name': ['Miller', 'Jacobson', \".\", 'Milner', 'Cooze'], \n",
        "        'age': [42, 52, 36, 24, 73], \n",
        "        'preTestScore': [4, 24, 31, \".\", \".\"],\n",
        "        'postTestScore': [\"25,000\", \"94,000\", 57, 62, 70]}\n",
        "df = pd.DataFrame(raw_data, columns = ['first_name', 'last_name', 'age', 'preTestScore', 'postTestScore'])\n",
        "df\n",
        "\n",
        "# Saving the above dataframe as csv in the working directory\n",
        "df.to_csv('example.csv')\n",
        "\n",
        "# Loading a csv\n",
        "df = pd.read_csv('example.csv')\n",
        "df\n",
        "\n",
        "# Loading a csv with no headers\n",
        "# Uncomment the lines below after running previous lines.\n",
        "# df = pd.read_csv('example.csv', header=None) \n",
        "# df\n",
        "\n",
        "# Loading a csv while specifying column names\n",
        "# Uncomment the lines below after running previous lines.\n",
        "# df = pd.read_csv('example.csv', names=['UID', 'First Name', 'Last Name', 'Age', 'Pre-Test Score', 'Post-Test Score'])\n",
        "# df\n",
        "\n",
        "# Loading a csv while setting the index columns to First Name and Last Name\n",
        "# Uncomment the lines below after running previous lines.\n",
        "# df = pd.read_csv('example.csv', index_col=['First Name', 'Last Name'], names=['UID', 'First Name', 'Last Name', 'Age', 'Pre-Test Score', 'Post-Test Score'])\n",
        "# df\n",
        "\n",
        "# Loading a csv while specifying “.” and “NA” as missing values in the Last Name column and “.” as missing values in Pre-Test Score column\n",
        "# Uncomment the lines below after running previous lines.\n",
        "sentinels = {'Last Name': ['.', 'NA'], 'Pre-Test Score': ['.']}\n",
        "df = pd.read_csv('example.csv', na_values=sentinels)\n",
        "df"
      ],
      "execution_count": null,
      "outputs": [
        {
          "output_type": "execute_result",
          "data": {
            "text/html": [
              "<div>\n",
              "<style scoped>\n",
              "    .dataframe tbody tr th:only-of-type {\n",
              "        vertical-align: middle;\n",
              "    }\n",
              "\n",
              "    .dataframe tbody tr th {\n",
              "        vertical-align: top;\n",
              "    }\n",
              "\n",
              "    .dataframe thead th {\n",
              "        text-align: right;\n",
              "    }\n",
              "</style>\n",
              "<table border=\"1\" class=\"dataframe\">\n",
              "  <thead>\n",
              "    <tr style=\"text-align: right;\">\n",
              "      <th></th>\n",
              "      <th>Unnamed: 0</th>\n",
              "      <th>first_name</th>\n",
              "      <th>last_name</th>\n",
              "      <th>age</th>\n",
              "      <th>preTestScore</th>\n",
              "      <th>postTestScore</th>\n",
              "    </tr>\n",
              "  </thead>\n",
              "  <tbody>\n",
              "    <tr>\n",
              "      <th>0</th>\n",
              "      <td>0</td>\n",
              "      <td>Jason</td>\n",
              "      <td>Miller</td>\n",
              "      <td>42</td>\n",
              "      <td>4</td>\n",
              "      <td>25,000</td>\n",
              "    </tr>\n",
              "    <tr>\n",
              "      <th>1</th>\n",
              "      <td>1</td>\n",
              "      <td>Molly</td>\n",
              "      <td>Jacobson</td>\n",
              "      <td>52</td>\n",
              "      <td>24</td>\n",
              "      <td>94,000</td>\n",
              "    </tr>\n",
              "    <tr>\n",
              "      <th>2</th>\n",
              "      <td>2</td>\n",
              "      <td>Tina</td>\n",
              "      <td>.</td>\n",
              "      <td>36</td>\n",
              "      <td>31</td>\n",
              "      <td>57</td>\n",
              "    </tr>\n",
              "    <tr>\n",
              "      <th>3</th>\n",
              "      <td>3</td>\n",
              "      <td>Jake</td>\n",
              "      <td>Milner</td>\n",
              "      <td>24</td>\n",
              "      <td>.</td>\n",
              "      <td>62</td>\n",
              "    </tr>\n",
              "    <tr>\n",
              "      <th>4</th>\n",
              "      <td>4</td>\n",
              "      <td>Amy</td>\n",
              "      <td>Cooze</td>\n",
              "      <td>73</td>\n",
              "      <td>.</td>\n",
              "      <td>70</td>\n",
              "    </tr>\n",
              "  </tbody>\n",
              "</table>\n",
              "</div>"
            ],
            "text/plain": [
              "   Unnamed: 0 first_name last_name  age preTestScore postTestScore\n",
              "0           0      Jason    Miller   42            4        25,000\n",
              "1           1      Molly  Jacobson   52           24        94,000\n",
              "2           2       Tina         .   36           31            57\n",
              "3           3       Jake    Milner   24            .            62\n",
              "4           4        Amy     Cooze   73            .            70"
            ]
          },
          "metadata": {
            "tags": []
          },
          "execution_count": 4
        }
      ]
    },
    {
      "cell_type": "markdown",
      "metadata": {
        "id": "juUUmvj5r1U1"
      },
      "source": [
        "### <font color=\"green\">1.1 Challenges</font>"
      ]
    },
    {
      "cell_type": "code",
      "metadata": {
        "id": "4OSrlmj2r-vR",
        "colab": {
          "base_uri": "https://localhost:8080/",
          "height": 204
        },
        "outputId": "470eecb3-a5b6-4e37-f703-830eccf3aeeb"
      },
      "source": [
        "# Challenge 1\n",
        "# Load the first 10 records of the JSON file from the following url\n",
        "# url = https://raw.githubusercontent.com/dariusk/corpora/master/data/books/academic_subjects.json\n",
        "# \n",
        "myfile = \"https://raw.githubusercontent.com/dariusk/corpora/master/data/books/academic_subjects.json\"\n",
        "df = pd.read_json(myfile)\n",
        "df.head()"
      ],
      "execution_count": null,
      "outputs": [
        {
          "output_type": "execute_result",
          "data": {
            "text/html": [
              "<div>\n",
              "<style scoped>\n",
              "    .dataframe tbody tr th:only-of-type {\n",
              "        vertical-align: middle;\n",
              "    }\n",
              "\n",
              "    .dataframe tbody tr th {\n",
              "        vertical-align: top;\n",
              "    }\n",
              "\n",
              "    .dataframe thead th {\n",
              "        text-align: right;\n",
              "    }\n",
              "</style>\n",
              "<table border=\"1\" class=\"dataframe\">\n",
              "  <thead>\n",
              "    <tr style=\"text-align: right;\">\n",
              "      <th></th>\n",
              "      <th>description</th>\n",
              "      <th>source</th>\n",
              "      <th>subjects</th>\n",
              "    </tr>\n",
              "  </thead>\n",
              "  <tbody>\n",
              "    <tr>\n",
              "      <th>0</th>\n",
              "      <td>Academic subjects</td>\n",
              "      <td>Classification of Instructional Programs (CIP ...</td>\n",
              "      <td>Accounting</td>\n",
              "    </tr>\n",
              "    <tr>\n",
              "      <th>1</th>\n",
              "      <td>Academic subjects</td>\n",
              "      <td>Classification of Instructional Programs (CIP ...</td>\n",
              "      <td>Administration of Special Education</td>\n",
              "    </tr>\n",
              "    <tr>\n",
              "      <th>2</th>\n",
              "      <td>Academic subjects</td>\n",
              "      <td>Classification of Instructional Programs (CIP ...</td>\n",
              "      <td>Adult &amp; Continuing Teacher Education</td>\n",
              "    </tr>\n",
              "    <tr>\n",
              "      <th>3</th>\n",
              "      <td>Academic subjects</td>\n",
              "      <td>Classification of Instructional Programs (CIP ...</td>\n",
              "      <td>Advertising</td>\n",
              "    </tr>\n",
              "    <tr>\n",
              "      <th>4</th>\n",
              "      <td>Academic subjects</td>\n",
              "      <td>Classification of Instructional Programs (CIP ...</td>\n",
              "      <td>African Studies</td>\n",
              "    </tr>\n",
              "  </tbody>\n",
              "</table>\n",
              "</div>"
            ],
            "text/plain": [
              "         description  ...                              subjects\n",
              "0  Academic subjects  ...                            Accounting\n",
              "1  Academic subjects  ...   Administration of Special Education\n",
              "2  Academic subjects  ...  Adult & Continuing Teacher Education\n",
              "3  Academic subjects  ...                           Advertising\n",
              "4  Academic subjects  ...                       African Studies\n",
              "\n",
              "[5 rows x 3 columns]"
            ]
          },
          "metadata": {
            "tags": []
          },
          "execution_count": 5
        }
      ]
    },
    {
      "cell_type": "code",
      "metadata": {
        "id": "YLAQVIq-sAWZ",
        "colab": {
          "base_uri": "https://localhost:8080/",
          "height": 445
        },
        "outputId": "01636bf0-6f98-4ff5-d2fd-583827eb1805"
      },
      "source": [
        "# Challenge 2\n",
        "# Preview the excel spreadsheet from the following url\n",
        "# url= http://ww2.amstat.org/publications/jse/v20n3/delzell/conflictdata.xlsx\n",
        "# \n",
        "mydata = \"http://ww2.amstat.org/publications/jse/v20n3/delzell/conflictdata.xlsx\"\n",
        "df = pd.read_excel(mydata)\n",
        "df.head()"
      ],
      "execution_count": null,
      "outputs": [
        {
          "output_type": "execute_result",
          "data": {
            "text/html": [
              "<div>\n",
              "<style scoped>\n",
              "    .dataframe tbody tr th:only-of-type {\n",
              "        vertical-align: middle;\n",
              "    }\n",
              "\n",
              "    .dataframe tbody tr th {\n",
              "        vertical-align: top;\n",
              "    }\n",
              "\n",
              "    .dataframe thead th {\n",
              "        text-align: right;\n",
              "    }\n",
              "</style>\n",
              "<table border=\"1\" class=\"dataframe\">\n",
              "  <thead>\n",
              "    <tr style=\"text-align: right;\">\n",
              "      <th></th>\n",
              "      <th>Year</th>\n",
              "      <th>EventType</th>\n",
              "      <th>Actor1</th>\n",
              "      <th>Actor2</th>\n",
              "      <th>Country</th>\n",
              "      <th>Region</th>\n",
              "      <th>Location</th>\n",
              "      <th>ConflictLat</th>\n",
              "      <th>ConflictLong</th>\n",
              "      <th>StationID</th>\n",
              "      <th>YrMoDy</th>\n",
              "      <th>MaxTemp</th>\n",
              "      <th>StationName</th>\n",
              "      <th>StationLong</th>\n",
              "      <th>StationLat</th>\n",
              "      <th>TempCat</th>\n",
              "    </tr>\n",
              "  </thead>\n",
              "  <tbody>\n",
              "    <tr>\n",
              "      <th>0</th>\n",
              "      <td>2005</td>\n",
              "      <td>Riots</td>\n",
              "      <td>Protesters (Algeria)</td>\n",
              "      <td>NaN</td>\n",
              "      <td>Algeria</td>\n",
              "      <td>Chlef</td>\n",
              "      <td>Sidi Ammar</td>\n",
              "      <td>36.47</td>\n",
              "      <td>1.45</td>\n",
              "      <td>604300</td>\n",
              "      <td>20050125</td>\n",
              "      <td>35.79</td>\n",
              "      <td>MILIANA</td>\n",
              "      <td>2.23</td>\n",
              "      <td>36.29</td>\n",
              "      <td>C</td>\n",
              "    </tr>\n",
              "    <tr>\n",
              "      <th>1</th>\n",
              "      <td>2003</td>\n",
              "      <td>Riots</td>\n",
              "      <td>Protesters (Algeria)</td>\n",
              "      <td>NaN</td>\n",
              "      <td>Algeria</td>\n",
              "      <td>NaN</td>\n",
              "      <td>Tadjenanet</td>\n",
              "      <td>36.11</td>\n",
              "      <td>5.98</td>\n",
              "      <td>604680</td>\n",
              "      <td>20030201</td>\n",
              "      <td>38.50</td>\n",
              "      <td>BATNA</td>\n",
              "      <td>6.31</td>\n",
              "      <td>35.75</td>\n",
              "      <td>C</td>\n",
              "    </tr>\n",
              "    <tr>\n",
              "      <th>2</th>\n",
              "      <td>2002</td>\n",
              "      <td>Battles</td>\n",
              "      <td>Military Forces of Ethiopia (1991-)</td>\n",
              "      <td>ONLF: Ogaden National Liberation Front</td>\n",
              "      <td>Ethiopia</td>\n",
              "      <td>Degeh Bur</td>\n",
              "      <td>Afweyne</td>\n",
              "      <td>9.38</td>\n",
              "      <td>43.06</td>\n",
              "      <td>696754</td>\n",
              "      <td>20020224</td>\n",
              "      <td>39.20</td>\n",
              "      <td>CAMP LEMONIER</td>\n",
              "      <td>43.15</td>\n",
              "      <td>11.55</td>\n",
              "      <td>C</td>\n",
              "    </tr>\n",
              "    <tr>\n",
              "      <th>3</th>\n",
              "      <td>2003</td>\n",
              "      <td>Riots</td>\n",
              "      <td>Protesters (Algeria)</td>\n",
              "      <td>Police Forces of Algeria (1999-)</td>\n",
              "      <td>Algeria</td>\n",
              "      <td>Bordj Bou Arreridj</td>\n",
              "      <td>Bordj Bou Arerridj</td>\n",
              "      <td>36.07</td>\n",
              "      <td>4.77</td>\n",
              "      <td>604440</td>\n",
              "      <td>20030217</td>\n",
              "      <td>39.40</td>\n",
              "      <td>BORDJ-BOU-ARRERIDJ</td>\n",
              "      <td>4.76</td>\n",
              "      <td>36.06</td>\n",
              "      <td>C</td>\n",
              "    </tr>\n",
              "    <tr>\n",
              "      <th>4</th>\n",
              "      <td>1999</td>\n",
              "      <td>Violence against civilians</td>\n",
              "      <td>GIA: Armed Islamic Group of Algeria</td>\n",
              "      <td>Civilians (Algeria)</td>\n",
              "      <td>Algeria</td>\n",
              "      <td>Relizane</td>\n",
              "      <td>Relizane</td>\n",
              "      <td>35.74</td>\n",
              "      <td>0.55</td>\n",
              "      <td>605060</td>\n",
              "      <td>19991217</td>\n",
              "      <td>39.90</td>\n",
              "      <td>MASCARA-MATEMORE</td>\n",
              "      <td>0.30</td>\n",
              "      <td>35.59</td>\n",
              "      <td>C</td>\n",
              "    </tr>\n",
              "  </tbody>\n",
              "</table>\n",
              "</div>"
            ],
            "text/plain": [
              "   Year                   EventType  ... StationLat TempCat\n",
              "0  2005                       Riots  ...      36.29       C\n",
              "1  2003                       Riots  ...      35.75       C\n",
              "2  2002                     Battles  ...      11.55       C\n",
              "3  2003                       Riots  ...      36.06       C\n",
              "4  1999  Violence against civilians  ...      35.59       C\n",
              "\n",
              "[5 rows x 16 columns]"
            ]
          },
          "metadata": {
            "tags": []
          },
          "execution_count": 6
        }
      ]
    },
    {
      "cell_type": "code",
      "metadata": {
        "id": "obhaE1tisAOE",
        "colab": {
          "base_uri": "https://localhost:8080/",
          "height": 224
        },
        "outputId": "7f92471c-c409-4483-f14b-6539f6b766df"
      },
      "source": [
        "\n",
        "# Challenge 3\n",
        "# Download and upload the csv file from this url (http://bit.ly/NairobiBusesDataset) (Not Load from Url)\n",
        "# Then preview the dataset while specifying column names \n",
        "#\n",
        "newdata = \"https://raw.githubusercontent.com/cimplival/datasets/master/buses-western-Nairobi%20-%20buses-western-Nairobi.csv\"\n",
        "df = pd.read_csv(newdata)\n",
        "df.head()"
      ],
      "execution_count": null,
      "outputs": [
        {
          "output_type": "execute_result",
          "data": {
            "text/html": [
              "<div>\n",
              "<style scoped>\n",
              "    .dataframe tbody tr th:only-of-type {\n",
              "        vertical-align: middle;\n",
              "    }\n",
              "\n",
              "    .dataframe tbody tr th {\n",
              "        vertical-align: top;\n",
              "    }\n",
              "\n",
              "    .dataframe thead th {\n",
              "        text-align: right;\n",
              "    }\n",
              "</style>\n",
              "<table border=\"1\" class=\"dataframe\">\n",
              "  <thead>\n",
              "    <tr style=\"text-align: right;\">\n",
              "      <th></th>\n",
              "      <th>ride_id</th>\n",
              "      <th>seat_number</th>\n",
              "      <th>payment_method</th>\n",
              "      <th>payment_receipt</th>\n",
              "      <th>travel_date</th>\n",
              "      <th>travel_time</th>\n",
              "      <th>travel_from</th>\n",
              "      <th>travel_to</th>\n",
              "      <th>car_type</th>\n",
              "      <th>max_capacity</th>\n",
              "    </tr>\n",
              "  </thead>\n",
              "  <tbody>\n",
              "    <tr>\n",
              "      <th>0</th>\n",
              "      <td>1442</td>\n",
              "      <td>15A</td>\n",
              "      <td>Mpesa</td>\n",
              "      <td>UZUEHCBUSO</td>\n",
              "      <td>17-10-17</td>\n",
              "      <td>7:15</td>\n",
              "      <td>Migori</td>\n",
              "      <td>Nairobi</td>\n",
              "      <td>Bus</td>\n",
              "      <td>49</td>\n",
              "    </tr>\n",
              "    <tr>\n",
              "      <th>1</th>\n",
              "      <td>5437</td>\n",
              "      <td>14A</td>\n",
              "      <td>Mpesa</td>\n",
              "      <td>TIHLBUSGTE</td>\n",
              "      <td>19-11-17</td>\n",
              "      <td>7:12</td>\n",
              "      <td>Migori</td>\n",
              "      <td>Nairobi</td>\n",
              "      <td>Bus</td>\n",
              "      <td>49</td>\n",
              "    </tr>\n",
              "    <tr>\n",
              "      <th>2</th>\n",
              "      <td>5710</td>\n",
              "      <td>8B</td>\n",
              "      <td>Mpesa</td>\n",
              "      <td>EQX8Q5G19O</td>\n",
              "      <td>26-11-17</td>\n",
              "      <td>7:05</td>\n",
              "      <td>Keroka</td>\n",
              "      <td>Nairobi</td>\n",
              "      <td>Bus</td>\n",
              "      <td>49</td>\n",
              "    </tr>\n",
              "    <tr>\n",
              "      <th>3</th>\n",
              "      <td>5777</td>\n",
              "      <td>19A</td>\n",
              "      <td>Mpesa</td>\n",
              "      <td>SGP18CL0ME</td>\n",
              "      <td>27-11-17</td>\n",
              "      <td>7:10</td>\n",
              "      <td>Homa Bay</td>\n",
              "      <td>Nairobi</td>\n",
              "      <td>Bus</td>\n",
              "      <td>49</td>\n",
              "    </tr>\n",
              "    <tr>\n",
              "      <th>4</th>\n",
              "      <td>5778</td>\n",
              "      <td>11A</td>\n",
              "      <td>Mpesa</td>\n",
              "      <td>BM97HFRGL9</td>\n",
              "      <td>27-11-17</td>\n",
              "      <td>7:12</td>\n",
              "      <td>Migori</td>\n",
              "      <td>Nairobi</td>\n",
              "      <td>Bus</td>\n",
              "      <td>49</td>\n",
              "    </tr>\n",
              "  </tbody>\n",
              "</table>\n",
              "</div>"
            ],
            "text/plain": [
              "   ride_id seat_number payment_method  ... travel_to car_type max_capacity\n",
              "0     1442         15A          Mpesa  ...   Nairobi      Bus           49\n",
              "1     5437         14A          Mpesa  ...   Nairobi      Bus           49\n",
              "2     5710          8B          Mpesa  ...   Nairobi      Bus           49\n",
              "3     5777         19A          Mpesa  ...   Nairobi      Bus           49\n",
              "4     5778         11A          Mpesa  ...   Nairobi      Bus           49\n",
              "\n",
              "[5 rows x 10 columns]"
            ]
          },
          "metadata": {
            "tags": []
          },
          "execution_count": 7
        }
      ]
    },
    {
      "cell_type": "code",
      "metadata": {
        "id": "Uk1pYV6pbTEK",
        "colab": {
          "base_uri": "https://localhost:8080/",
          "height": 173
        },
        "outputId": "0e402612-e247-43d1-80b8-8d65106db3c2"
      },
      "source": [
        "# Challenge 4 \n",
        "# Create a Dataframe from the following dictionary then fill in the missing values with \".\"\n",
        "#\n",
        "\n",
        "# Dictionary\n",
        "dict = {'First Score':[100, 90, np.nan, 95], \n",
        "        'Second Score': [30, 45, 56, np.nan], \n",
        "        'Third Score':[np.nan, 40, 80, 98]} \n",
        "\n",
        "mydf = pd.DataFrame(dict)\n",
        "#mydf.isna().sum()\n",
        "#mydf['First Score'].fillna(mydf['First Score'].mean(), inplace=True) \n",
        "mydf.fillna('.')"
      ],
      "execution_count": null,
      "outputs": [
        {
          "output_type": "execute_result",
          "data": {
            "text/html": [
              "<div>\n",
              "<style scoped>\n",
              "    .dataframe tbody tr th:only-of-type {\n",
              "        vertical-align: middle;\n",
              "    }\n",
              "\n",
              "    .dataframe tbody tr th {\n",
              "        vertical-align: top;\n",
              "    }\n",
              "\n",
              "    .dataframe thead th {\n",
              "        text-align: right;\n",
              "    }\n",
              "</style>\n",
              "<table border=\"1\" class=\"dataframe\">\n",
              "  <thead>\n",
              "    <tr style=\"text-align: right;\">\n",
              "      <th></th>\n",
              "      <th>First Score</th>\n",
              "      <th>Second Score</th>\n",
              "      <th>Third Score</th>\n",
              "    </tr>\n",
              "  </thead>\n",
              "  <tbody>\n",
              "    <tr>\n",
              "      <th>0</th>\n",
              "      <td>100</td>\n",
              "      <td>30</td>\n",
              "      <td>.</td>\n",
              "    </tr>\n",
              "    <tr>\n",
              "      <th>1</th>\n",
              "      <td>90</td>\n",
              "      <td>45</td>\n",
              "      <td>40</td>\n",
              "    </tr>\n",
              "    <tr>\n",
              "      <th>2</th>\n",
              "      <td>.</td>\n",
              "      <td>56</td>\n",
              "      <td>80</td>\n",
              "    </tr>\n",
              "    <tr>\n",
              "      <th>3</th>\n",
              "      <td>95</td>\n",
              "      <td>.</td>\n",
              "      <td>98</td>\n",
              "    </tr>\n",
              "  </tbody>\n",
              "</table>\n",
              "</div>"
            ],
            "text/plain": [
              "  First Score Second Score Third Score\n",
              "0         100           30           .\n",
              "1          90           45          40\n",
              "2           .           56          80\n",
              "3          95            .          98"
            ]
          },
          "metadata": {
            "tags": []
          },
          "execution_count": 19
        }
      ]
    },
    {
      "cell_type": "markdown",
      "metadata": {
        "id": "UvgWwvdBpxIF"
      },
      "source": [
        "## 1.2 Exploration"
      ]
    },
    {
      "cell_type": "code",
      "metadata": {
        "id": "3E_v5OjSpzZa",
        "colab": {
          "base_uri": "https://localhost:8080/",
          "height": 213
        },
        "outputId": "bbf480e8-b030-42cd-cbe0-a2abbcdb406b"
      },
      "source": [
        "# Example 1\n",
        "# We will now see how we can filter pandas Dataframes as shown below\n",
        "# \n",
        "\n",
        "# Creating the following Dataframe\n",
        "data = {'name': ['Kevin', 'Jane', 'Mary', 'Jared', 'Elizabeth'], \n",
        "        'year': [2012, 2012, 2013, 2014, 2014], \n",
        "        'reports': [4, 24, 31, 2, 3],\n",
        "        'coverage': [25, 94, 57, 62, 70]}\n",
        "df = pd.DataFrame(data, index = ['Nairobi', 'Nakuru', 'Kisumu', 'Kericho', 'Eldoret'])\n",
        "print(df)\n",
        "\n",
        "# Viewing a column\n",
        "# Uncomment the line below after running previous line\n",
        "df['name']\n",
        "\n",
        "# Viewing two Columns\n",
        "# Uncomment the line below after running previous line\n",
        "df[['name', 'reports']]\n",
        "\n",
        "# Viewing the first two Rows\n",
        "# Uncomment the line below after running previous line\n",
        "df[:2]\n",
        "\n",
        "# Viewing rows where coverage is greater than 50\n",
        "# Uncomment the line below after running previous line\n",
        "df[df['coverage'] > 50]\n",
        "\n",
        "\n",
        "# Viewing rows where coverage is greater than 50 and reports less than 4\n",
        "# Uncomment the line below after running previous line\n",
        "df[(df['coverage']  > 50) & (df['reports'] < 4)]"
      ],
      "execution_count": null,
      "outputs": [
        {
          "output_type": "stream",
          "text": [
            "              name  year  reports  coverage\n",
            "Nairobi      Kevin  2012        4        25\n",
            "Nakuru        Jane  2012       24        94\n",
            "Kisumu        Mary  2013       31        57\n",
            "Kericho      Jared  2014        2        62\n",
            "Eldoret  Elizabeth  2014        3        70\n"
          ],
          "name": "stdout"
        },
        {
          "output_type": "execute_result",
          "data": {
            "text/html": [
              "<div>\n",
              "<style scoped>\n",
              "    .dataframe tbody tr th:only-of-type {\n",
              "        vertical-align: middle;\n",
              "    }\n",
              "\n",
              "    .dataframe tbody tr th {\n",
              "        vertical-align: top;\n",
              "    }\n",
              "\n",
              "    .dataframe thead th {\n",
              "        text-align: right;\n",
              "    }\n",
              "</style>\n",
              "<table border=\"1\" class=\"dataframe\">\n",
              "  <thead>\n",
              "    <tr style=\"text-align: right;\">\n",
              "      <th></th>\n",
              "      <th>name</th>\n",
              "      <th>year</th>\n",
              "      <th>reports</th>\n",
              "      <th>coverage</th>\n",
              "    </tr>\n",
              "  </thead>\n",
              "  <tbody>\n",
              "    <tr>\n",
              "      <th>Kericho</th>\n",
              "      <td>Jared</td>\n",
              "      <td>2014</td>\n",
              "      <td>2</td>\n",
              "      <td>62</td>\n",
              "    </tr>\n",
              "    <tr>\n",
              "      <th>Eldoret</th>\n",
              "      <td>Elizabeth</td>\n",
              "      <td>2014</td>\n",
              "      <td>3</td>\n",
              "      <td>70</td>\n",
              "    </tr>\n",
              "  </tbody>\n",
              "</table>\n",
              "</div>"
            ],
            "text/plain": [
              "              name  year  reports  coverage\n",
              "Kericho      Jared  2014        2        62\n",
              "Eldoret  Elizabeth  2014        3        70"
            ]
          },
          "metadata": {
            "tags": []
          },
          "execution_count": 20
        }
      ]
    },
    {
      "cell_type": "code",
      "metadata": {
        "id": "_R-B-0cwp0t5",
        "colab": {
          "base_uri": "https://localhost:8080/"
        },
        "outputId": "6f10587d-41b4-4ca6-9872-8f0c25d51385"
      },
      "source": [
        "# Example 2\n",
        "# Then find the largest value in a Dataframe column\n",
        "# \n",
        "\n",
        "# First creating a Dataframe\n",
        "raw_data = {'first_name': ['Jason', 'Molly', 'Tina', 'Jake', 'Amy'], \n",
        "        'last_name': ['Miller', 'Jacobson', 'Ali', 'Milner', 'Cooze'], \n",
        "        'age': [42, 52, 36, 24, 73], \n",
        "        'preTestScore': [4, 24, 31, 2, 3],\n",
        "        'postTestScore': [25, 94, 57, 62, 70]}\n",
        "df = pd.DataFrame(raw_data, columns = ['first_name', 'last_name', 'age', 'preTestScore', 'postTestScore'])\n",
        "df\n",
        "\n",
        "# Then Indexing of the row with the highest value in the preTestScore column\n",
        "# Uncomment the line below after running previous line\n",
        "df['preTestScore'].max()"
      ],
      "execution_count": null,
      "outputs": [
        {
          "output_type": "execute_result",
          "data": {
            "text/plain": [
              "31"
            ]
          },
          "metadata": {
            "tags": []
          },
          "execution_count": 21
        }
      ]
    },
    {
      "cell_type": "code",
      "metadata": {
        "id": "esmZmojypz0a",
        "colab": {
          "base_uri": "https://localhost:8080/"
        },
        "outputId": "92ab6fe1-21b8-45e3-93c2-81eeeefcef53"
      },
      "source": [
        "# Example 3\n",
        "# Finding also Unique Values In the Pandas Dataframes\n",
        "import numpy as np\n",
        "\n",
        "# First creating a Dataframe from a Dictionary\n",
        "raw_data = {'regiment': ['51st', '29th', '2nd', '19th', '12th', '101st', '90th', '30th', '193th', '1st', '94th', '91th'], \n",
        "            'trucks': ['MAZ-7310', np.nan, 'MAZ-7310', 'MAZ-7310', 'Tatra 810', 'Tatra 810', 'Tatra 810', 'Tatra 810', 'ZIS-150', 'Tatra 810', 'ZIS-150', 'ZIS-150'],\n",
        "            'tanks': ['Merkava Mark 4', 'Merkava Mark 4', 'Merkava Mark 4', 'Leopard 2A6M', 'Leopard 2A6M', 'Leopard 2A6M', 'Arjun MBT', 'Leopard 2A6M', 'Arjun MBT', 'Arjun MBT', 'Arjun MBT', 'Arjun MBT'],\n",
        "            'aircraft': ['none', 'none', 'none', 'Harbin Z-9', 'Harbin Z-9', 'none', 'Harbin Z-9', 'SH-60B Seahawk', 'SH-60B Seahawk', 'SH-60B Seahawk', 'SH-60B Seahawk', 'SH-60B Seahawk']}\n",
        "df = pd.DataFrame(raw_data, columns = ['regiment', 'trucks', 'tanks', 'aircraft'])\n",
        "df\n",
        "\n",
        "# Viewing the top few rows\n",
        "# Uncomment the line below after running previous lines\n",
        "df.head()\n",
        "\n",
        "# We can create a list of unique values by turning the pandas column into a set\n",
        "# Uncomment the line below after running previous lines\n",
        "list(set(df.trucks))\n",
        "\n",
        "# Here's another way of creating a list of unique values in df.trucks\n",
        "# Uncomment the line below after running previous lines\n",
        "list(df['trucks'].unique())\n"
      ],
      "execution_count": null,
      "outputs": [
        {
          "output_type": "execute_result",
          "data": {
            "text/plain": [
              "['MAZ-7310', nan, 'Tatra 810', 'ZIS-150']"
            ]
          },
          "metadata": {
            "tags": []
          },
          "execution_count": 22
        }
      ]
    },
    {
      "cell_type": "code",
      "metadata": {
        "id": "B3RH0pXqqRbH",
        "colab": {
          "base_uri": "https://localhost:8080/"
        },
        "outputId": "7a7cbf71-8695-4c39-f17f-b95b4e9533c1"
      },
      "source": [
        "# Example 4\n",
        "# listing Unique Values In A pandas Column\n",
        "#\n",
        "\n",
        "# Create an example dataframe\n",
        "data = {'name': ['Jason', 'Molly', 'Tina', 'Jake', 'Amy'], \n",
        "        'year': [2012, 2012, 2013, 2014, 2014], \n",
        "        'reports': [4, 24, 31, 2, 3]}\n",
        "df = pd.DataFrame(data, index = ['Cochice', 'Pima', 'Santa Cruz', 'Maricopa', 'Yuma'])\n",
        "df\n",
        "\n",
        "# List unique values in the df['name'] column\n",
        "# Uncomment the line below after running previous lines\n",
        "df.name.unique()"
      ],
      "execution_count": null,
      "outputs": [
        {
          "output_type": "execute_result",
          "data": {
            "text/plain": [
              "array(['Jason', 'Molly', 'Tina', 'Jake', 'Amy'], dtype=object)"
            ]
          },
          "metadata": {
            "tags": []
          },
          "execution_count": 23
        }
      ]
    },
    {
      "cell_type": "code",
      "metadata": {
        "id": "QcCOrEo5qpfS",
        "colab": {
          "base_uri": "https://localhost:8080/"
        },
        "outputId": "eabded94-2ff7-48f7-ad78-18d5a8330de6"
      },
      "source": [
        "# Example 5\n",
        "# Grouping Rows In pandas\n",
        "# \n",
        "\n",
        "# Creating a Dataframe\n",
        "raw_data = {'regiment': ['Nighthawks', 'Nighthawks', 'Nighthawks', 'Nighthawks', 'Dragoons', 'Dragoons', 'Dragoons', 'Dragoons', 'Scouts', 'Scouts', 'Scouts', 'Scouts'], \n",
        "        'company': ['1st', '1st', '2nd', '2nd', '1st', '1st', '2nd', '2nd','1st', '1st', '2nd', '2nd'], \n",
        "        'name': ['Miller', 'Jacobson', 'Ali', 'Milner', 'Cooze', 'Jacon', 'Ryaner', 'Sone', 'Sloan', 'Piger', 'Riani', 'Ali'], \n",
        "        'preTestScore': [4, 24, 31, 2, 3, 4, 24, 31, 2, 3, 2, 3],\n",
        "        'postTestScore': [25, 94, 57, 62, 70, 25, 94, 57, 62, 70, 62, 70]}\n",
        "df = pd.DataFrame(raw_data, columns = ['regiment', 'company', 'name', 'preTestScore', 'postTestScore'])\n",
        "df\n",
        "\n",
        "# Creating a grouping object. In other words, create an object that\n",
        "# represents that particular grouping. In this case we group\n",
        "# pre-test scores by the regiment.\n",
        "# Uncomment the line below after running previous lines\n",
        "regiment_preScore = df['preTestScore'].groupby(df['regiment'])\n",
        "regiment_preScore\n",
        "\n",
        "# Displaying the mean value of the each regiment's pre-test score\n",
        "# Uncomment the line below after running previous lines\n",
        "regiment_preScore.mean()\n"
      ],
      "execution_count": null,
      "outputs": [
        {
          "output_type": "execute_result",
          "data": {
            "text/plain": [
              "regiment\n",
              "Dragoons      15.50\n",
              "Nighthawks    15.25\n",
              "Scouts         2.50\n",
              "Name: preTestScore, dtype: float64"
            ]
          },
          "metadata": {
            "tags": []
          },
          "execution_count": 24
        }
      ]
    },
    {
      "cell_type": "markdown",
      "metadata": {
        "id": "9_XCQAP5sF5r"
      },
      "source": [
        "### <font color=\"green\"> 1.2 Challenges</font>"
      ]
    },
    {
      "cell_type": "code",
      "metadata": {
        "id": "h_MYzHTPsFWe",
        "colab": {
          "base_uri": "https://localhost:8080/",
          "height": 80
        },
        "outputId": "0b6274b5-eb97-4952-ad6a-5af676f1f490"
      },
      "source": [
        "# Challenge 1\n",
        "# Let us view the following Dataframe upon creation from the following Dictionary\n",
        "#\n",
        "data = {'name': ['Alice', 'Robert', 'Charles', 'David', 'Eric'],\n",
        "        'year of joining': [2014, 2015, 2013, 2014, 2013],\n",
        "        'salary': [40000, 25000, 35000, 200000, 30000]}\n",
        "df = pd.DataFrame(data, index = ['I&M', 'I&M', 'KCB', 'KCB', 'KCB'])\n",
        "df\n",
        "\n",
        "# Let us view salary column\n",
        "#df['salary']\n",
        "\n",
        "# We would like to compare the name and the salary columns\n",
        "#df[['name','salary']]\n",
        "\n",
        "# Let's view the first three records of the dataframe\n",
        "#df.head(3)\n",
        "\n",
        "# Which employee(s) earn(s) a salary of more than 30000\n",
        " \n",
        "#df[df['salary'] > 30000]\n",
        "\n",
        "# Which employee(s) earn(s) a salary of less than 30000 and joined before 2015\n",
        "df[(df['salary']  <= 30000) & (df['year of joining'] < 2014)]\n"
      ],
      "execution_count": null,
      "outputs": [
        {
          "output_type": "execute_result",
          "data": {
            "text/html": [
              "<div>\n",
              "<style scoped>\n",
              "    .dataframe tbody tr th:only-of-type {\n",
              "        vertical-align: middle;\n",
              "    }\n",
              "\n",
              "    .dataframe tbody tr th {\n",
              "        vertical-align: top;\n",
              "    }\n",
              "\n",
              "    .dataframe thead th {\n",
              "        text-align: right;\n",
              "    }\n",
              "</style>\n",
              "<table border=\"1\" class=\"dataframe\">\n",
              "  <thead>\n",
              "    <tr style=\"text-align: right;\">\n",
              "      <th></th>\n",
              "      <th>name</th>\n",
              "      <th>year of joining</th>\n",
              "      <th>salary</th>\n",
              "    </tr>\n",
              "  </thead>\n",
              "  <tbody>\n",
              "    <tr>\n",
              "      <th>KCB</th>\n",
              "      <td>Eric</td>\n",
              "      <td>2013</td>\n",
              "      <td>30000</td>\n",
              "    </tr>\n",
              "  </tbody>\n",
              "</table>\n",
              "</div>"
            ],
            "text/plain": [
              "     name  year of joining  salary\n",
              "KCB  Eric             2013   30000"
            ]
          },
          "metadata": {
            "tags": []
          },
          "execution_count": 31
        }
      ]
    },
    {
      "cell_type": "code",
      "metadata": {
        "id": "SQ-lM05NsOfM",
        "colab": {
          "base_uri": "https://localhost:8080/",
          "height": 111
        },
        "outputId": "f30697be-53c9-40ed-b713-7444ba331605"
      },
      "source": [
        "# Challenge 2\n",
        "# Find out the person with greatest age from the Dataframe that you will create\n",
        "# upon creating the Dictionary below\n",
        "# \n",
        "\n",
        "# Create a DataFrame\n",
        "df = {'Name':['Audrey','Kwasi','Parul','Lohinee','James','Catherine',\n",
        "'Val','Robert','Alex','Alisa','Murkomen','Judy'],\n",
        "'Age':[26,24,23,22,23,24,26,24,22,23,24,24],\n",
        "'Score':[85,63,55,74,31,77,85,63,42,62,89,77]}\n",
        "\n",
        "myfile = pd.DataFrame(df)\n",
        "myfile\n",
        "#myfile.loc[myfile['Age'].idxmax()]\n",
        "myfile[myfile.Age == myfile.Age.max()] "
      ],
      "execution_count": null,
      "outputs": [
        {
          "output_type": "execute_result",
          "data": {
            "text/html": [
              "<div>\n",
              "<style scoped>\n",
              "    .dataframe tbody tr th:only-of-type {\n",
              "        vertical-align: middle;\n",
              "    }\n",
              "\n",
              "    .dataframe tbody tr th {\n",
              "        vertical-align: top;\n",
              "    }\n",
              "\n",
              "    .dataframe thead th {\n",
              "        text-align: right;\n",
              "    }\n",
              "</style>\n",
              "<table border=\"1\" class=\"dataframe\">\n",
              "  <thead>\n",
              "    <tr style=\"text-align: right;\">\n",
              "      <th></th>\n",
              "      <th>Name</th>\n",
              "      <th>Age</th>\n",
              "      <th>Score</th>\n",
              "    </tr>\n",
              "  </thead>\n",
              "  <tbody>\n",
              "    <tr>\n",
              "      <th>0</th>\n",
              "      <td>Audrey</td>\n",
              "      <td>26</td>\n",
              "      <td>85</td>\n",
              "    </tr>\n",
              "    <tr>\n",
              "      <th>6</th>\n",
              "      <td>Val</td>\n",
              "      <td>26</td>\n",
              "      <td>85</td>\n",
              "    </tr>\n",
              "  </tbody>\n",
              "</table>\n",
              "</div>"
            ],
            "text/plain": [
              "     Name  Age  Score\n",
              "0  Audrey   26     85\n",
              "6     Val   26     85"
            ]
          },
          "metadata": {
            "tags": []
          },
          "execution_count": 37
        }
      ]
    },
    {
      "cell_type": "code",
      "metadata": {
        "id": "o1h4cB76sPbm",
        "colab": {
          "base_uri": "https://localhost:8080/"
        },
        "outputId": "5804806f-f2a6-46a7-f757-b1df55fb0f11"
      },
      "source": [
        "# Challenge 3\n",
        "# Get the unique values of the continent column from the Dataset below\n",
        "# url = http://bit.ly/FiveYearData\n",
        "#\n",
        "url = \"https://raw.githubusercontent.com/resbaz/r-novice-gapminder-files/master/data/gapminder-FiveYearData.csv\"\n",
        "df = pd.read_csv(url)\n",
        "df.head()\n",
        "list(df['continent'].unique())"
      ],
      "execution_count": null,
      "outputs": [
        {
          "output_type": "execute_result",
          "data": {
            "text/plain": [
              "['Asia', 'Europe', 'Africa', 'Americas', 'Oceania']"
            ]
          },
          "metadata": {
            "tags": []
          },
          "execution_count": 38
        }
      ]
    },
    {
      "cell_type": "code",
      "metadata": {
        "id": "tg4YYl3esQt6",
        "colab": {
          "base_uri": "https://localhost:8080/"
        },
        "outputId": "2c4fe3be-7a8d-420d-9dea-cb68dab801fa"
      },
      "source": [
        "# Challenge 4\n",
        "# How many countries are there in the dataset on challenge 3\n",
        "# \n",
        "df['country'].nunique()"
      ],
      "execution_count": null,
      "outputs": [
        {
          "output_type": "execute_result",
          "data": {
            "text/plain": [
              "142"
            ]
          },
          "metadata": {
            "tags": []
          },
          "execution_count": 39
        }
      ]
    },
    {
      "cell_type": "code",
      "metadata": {
        "id": "aRwUwGONsRr3",
        "colab": {
          "base_uri": "https://localhost:8080/"
        },
        "outputId": "48287b74-d0cd-4e42-f871-96d6ca20ab42"
      },
      "source": [
        "# Challenge 5\n",
        "# What is the average number of goals per teams from the dictionary below\n",
        "# \n",
        "\n",
        "# Creating our dataframe\n",
        "football = {'Team':['Arsenal', 'Manchester United', 'Arsenal', \n",
        "                   'Arsenal', 'Chelsea', 'Manchester United', \n",
        "                   'Manchester United', 'Chelsea', 'Chelsea', 'Chelsea'],     \n",
        "           'Player':['Ozil', 'Pogba', 'Lucas', 'Aubameyang', \n",
        "                       'Hazard', 'Mata', 'Lukaku', 'Morata',  \n",
        "                                         'Giroud', 'Kante'],                          \n",
        "           'Goals':[6, 4, 7, 5, 10, 3, 1, 6, 3, 4]} \n",
        "\n",
        "goal = pd.DataFrame(football)\n",
        "goal\n",
        "\n",
        "Score = goal['Goals'].groupby(goal['Team'])\n",
        "Score.mean()"
      ],
      "execution_count": null,
      "outputs": [
        {
          "output_type": "execute_result",
          "data": {
            "text/plain": [
              "Team\n",
              "Arsenal              6.000000\n",
              "Chelsea              5.750000\n",
              "Manchester United    2.666667\n",
              "Name: Goals, dtype: float64"
            ]
          },
          "metadata": {
            "tags": []
          },
          "execution_count": 43
        }
      ]
    },
    {
      "cell_type": "markdown",
      "metadata": {
        "id": "C2opvjY3p6zc"
      },
      "source": [
        "## 1.3 Selecting and Sorting\n"
      ]
    },
    {
      "cell_type": "code",
      "metadata": {
        "id": "5zZPvy29p9bE",
        "colab": {
          "base_uri": "https://localhost:8080/",
          "height": 204
        },
        "outputId": "381912c3-07ed-4c24-c903-dd8346e3ec12"
      },
      "source": [
        "# Example 1\n",
        "# In this section, we will select and sort our dataframes\n",
        "# We will start off by ranking Rows Of Pandas Dataframes as shown \n",
        "#\n",
        "\n",
        "# Creating dataframe\n",
        "data = {'name': ['Jason', 'Molly', 'Tina', 'Jake', 'Amy'], \n",
        "        'year': [2012, 2012, 2013, 2014, 2014], \n",
        "        'reports': [4, 24, 31, 2, 3],\n",
        "        'coverage': [25, 94, 57, 62, 70]}\n",
        "df = pd.DataFrame(data, index = ['Cochice', 'Pima', 'Santa Cruz', 'Maricopa', 'Yuma'])\n",
        "df\n",
        "\n",
        "# Creating a new column that is the rank of the value of coverage in ascending order\n",
        "# Uncomment the line below after running previous lines\n",
        "#df['coverageRanked'] = df['coverage'].rank(ascending=1)\n",
        "df\n",
        "rslt_df = df.sort_values(by = 'coverage', ascending = True)\n",
        "rslt_df"
      ],
      "execution_count": null,
      "outputs": [
        {
          "output_type": "execute_result",
          "data": {
            "text/html": [
              "<div>\n",
              "<style scoped>\n",
              "    .dataframe tbody tr th:only-of-type {\n",
              "        vertical-align: middle;\n",
              "    }\n",
              "\n",
              "    .dataframe tbody tr th {\n",
              "        vertical-align: top;\n",
              "    }\n",
              "\n",
              "    .dataframe thead th {\n",
              "        text-align: right;\n",
              "    }\n",
              "</style>\n",
              "<table border=\"1\" class=\"dataframe\">\n",
              "  <thead>\n",
              "    <tr style=\"text-align: right;\">\n",
              "      <th></th>\n",
              "      <th>name</th>\n",
              "      <th>year</th>\n",
              "      <th>reports</th>\n",
              "      <th>coverage</th>\n",
              "    </tr>\n",
              "  </thead>\n",
              "  <tbody>\n",
              "    <tr>\n",
              "      <th>Cochice</th>\n",
              "      <td>Jason</td>\n",
              "      <td>2012</td>\n",
              "      <td>4</td>\n",
              "      <td>25</td>\n",
              "    </tr>\n",
              "    <tr>\n",
              "      <th>Santa Cruz</th>\n",
              "      <td>Tina</td>\n",
              "      <td>2013</td>\n",
              "      <td>31</td>\n",
              "      <td>57</td>\n",
              "    </tr>\n",
              "    <tr>\n",
              "      <th>Maricopa</th>\n",
              "      <td>Jake</td>\n",
              "      <td>2014</td>\n",
              "      <td>2</td>\n",
              "      <td>62</td>\n",
              "    </tr>\n",
              "    <tr>\n",
              "      <th>Yuma</th>\n",
              "      <td>Amy</td>\n",
              "      <td>2014</td>\n",
              "      <td>3</td>\n",
              "      <td>70</td>\n",
              "    </tr>\n",
              "    <tr>\n",
              "      <th>Pima</th>\n",
              "      <td>Molly</td>\n",
              "      <td>2012</td>\n",
              "      <td>24</td>\n",
              "      <td>94</td>\n",
              "    </tr>\n",
              "  </tbody>\n",
              "</table>\n",
              "</div>"
            ],
            "text/plain": [
              "             name  year  reports  coverage\n",
              "Cochice     Jason  2012        4        25\n",
              "Santa Cruz   Tina  2013       31        57\n",
              "Maricopa     Jake  2014        2        62\n",
              "Yuma          Amy  2014        3        70\n",
              "Pima        Molly  2012       24        94"
            ]
          },
          "metadata": {
            "tags": []
          },
          "execution_count": 58
        }
      ]
    },
    {
      "cell_type": "code",
      "metadata": {
        "id": "vLhFrqNiqWDX",
        "colab": {
          "base_uri": "https://localhost:8080/",
          "height": 111
        },
        "outputId": "5fb7cab4-e2ed-4859-d478-38699de35b4b"
      },
      "source": [
        "# Example 2\n",
        "# Next, we will Select Rows When Columns that Contain Certain Values\n",
        "# \n",
        "\n",
        "# Create an example dataframe\n",
        "data = {'name': ['Jason', 'Molly', 'Tina', 'Jake', 'Amy'], \n",
        "        'year': [2012, 2012, 2013, 2014, 2014], \n",
        "        'reports': [4, 24, 31, 2, 3]}\n",
        "df = pd.DataFrame(data, index = ['Cochice', 'Pima', 'Santa Cruz', 'Maricopa', 'Yuma'])\n",
        "df\n",
        "\n",
        "# Get rows where column has certain values\n",
        "# Uncomment the line below after running previous lines\n",
        "value_list = ['Tina', 'Molly', 'Jason']\n",
        "df[df.name.isin(value_list)]\n",
        "\n",
        "# Get rows where column doesn't have certain values\n",
        "# Uncomment the line below after running previous lines\n",
        "df[~df.name.isin(value_list)]"
      ],
      "execution_count": null,
      "outputs": [
        {
          "output_type": "execute_result",
          "data": {
            "text/html": [
              "<div>\n",
              "<style scoped>\n",
              "    .dataframe tbody tr th:only-of-type {\n",
              "        vertical-align: middle;\n",
              "    }\n",
              "\n",
              "    .dataframe tbody tr th {\n",
              "        vertical-align: top;\n",
              "    }\n",
              "\n",
              "    .dataframe thead th {\n",
              "        text-align: right;\n",
              "    }\n",
              "</style>\n",
              "<table border=\"1\" class=\"dataframe\">\n",
              "  <thead>\n",
              "    <tr style=\"text-align: right;\">\n",
              "      <th></th>\n",
              "      <th>name</th>\n",
              "      <th>year</th>\n",
              "      <th>reports</th>\n",
              "    </tr>\n",
              "  </thead>\n",
              "  <tbody>\n",
              "    <tr>\n",
              "      <th>Maricopa</th>\n",
              "      <td>Jake</td>\n",
              "      <td>2014</td>\n",
              "      <td>2</td>\n",
              "    </tr>\n",
              "    <tr>\n",
              "      <th>Yuma</th>\n",
              "      <td>Amy</td>\n",
              "      <td>2014</td>\n",
              "      <td>3</td>\n",
              "    </tr>\n",
              "  </tbody>\n",
              "</table>\n",
              "</div>"
            ],
            "text/plain": [
              "          name  year  reports\n",
              "Maricopa  Jake  2014        2\n",
              "Yuma       Amy  2014        3"
            ]
          },
          "metadata": {
            "tags": []
          },
          "execution_count": 52
        }
      ]
    },
    {
      "cell_type": "code",
      "metadata": {
        "id": "Q8wjaHL3qV-1",
        "colab": {
          "base_uri": "https://localhost:8080/",
          "height": 80
        },
        "outputId": "95a54a69-0a51-447f-a905-e3886f580476"
      },
      "source": [
        "# Example 3\n",
        "# Then, Select Rows With A Certain Value\n",
        "\n",
        "# Create an example dataframe\n",
        "data = {'name': ['Jason', 'Molly'], \n",
        "        'country': [['Syria', 'Lebanon'],['Spain', 'Morocco']]}\n",
        "df = pd.DataFrame(data)\n",
        "df\n",
        "\n",
        "# Uncomment the line below after running previous lines\n",
        "df[df['country'].map(lambda country: 'Syria' in country)]\n"
      ],
      "execution_count": null,
      "outputs": [
        {
          "output_type": "execute_result",
          "data": {
            "text/html": [
              "<div>\n",
              "<style scoped>\n",
              "    .dataframe tbody tr th:only-of-type {\n",
              "        vertical-align: middle;\n",
              "    }\n",
              "\n",
              "    .dataframe tbody tr th {\n",
              "        vertical-align: top;\n",
              "    }\n",
              "\n",
              "    .dataframe thead th {\n",
              "        text-align: right;\n",
              "    }\n",
              "</style>\n",
              "<table border=\"1\" class=\"dataframe\">\n",
              "  <thead>\n",
              "    <tr style=\"text-align: right;\">\n",
              "      <th></th>\n",
              "      <th>name</th>\n",
              "      <th>country</th>\n",
              "    </tr>\n",
              "  </thead>\n",
              "  <tbody>\n",
              "    <tr>\n",
              "      <th>0</th>\n",
              "      <td>Jason</td>\n",
              "      <td>[Syria, Lebanon]</td>\n",
              "    </tr>\n",
              "  </tbody>\n",
              "</table>\n",
              "</div>"
            ],
            "text/plain": [
              "    name           country\n",
              "0  Jason  [Syria, Lebanon]"
            ]
          },
          "metadata": {
            "tags": []
          },
          "execution_count": 55
        }
      ]
    },
    {
      "cell_type": "code",
      "metadata": {
        "id": "eGiiPkCvqu_W",
        "colab": {
          "base_uri": "https://localhost:8080/",
          "height": 142
        },
        "outputId": "8cddb561-4a65-4bff-ce2f-9381fb2ea6f8"
      },
      "source": [
        "# Example 4\n",
        "# Select Rows With Multiple Filters\n",
        "#\n",
        "\n",
        "# Create an example dataframe\n",
        "data = {'name': ['A', 'B', 'C', 'D', 'E'], \n",
        "        'score': [1,2,3,4,5]}\n",
        "df = pd.DataFrame(data)\n",
        "df\n",
        "\n",
        "# Select rows of the dataframe where df.score is greater than 1 and less and 5\n",
        "# Uncomment the line below after running previous lines\n",
        "df[(df['score'] > 1) & (df['score'] < 5)]\n"
      ],
      "execution_count": null,
      "outputs": [
        {
          "output_type": "execute_result",
          "data": {
            "text/html": [
              "<div>\n",
              "<style scoped>\n",
              "    .dataframe tbody tr th:only-of-type {\n",
              "        vertical-align: middle;\n",
              "    }\n",
              "\n",
              "    .dataframe tbody tr th {\n",
              "        vertical-align: top;\n",
              "    }\n",
              "\n",
              "    .dataframe thead th {\n",
              "        text-align: right;\n",
              "    }\n",
              "</style>\n",
              "<table border=\"1\" class=\"dataframe\">\n",
              "  <thead>\n",
              "    <tr style=\"text-align: right;\">\n",
              "      <th></th>\n",
              "      <th>name</th>\n",
              "      <th>score</th>\n",
              "    </tr>\n",
              "  </thead>\n",
              "  <tbody>\n",
              "    <tr>\n",
              "      <th>1</th>\n",
              "      <td>B</td>\n",
              "      <td>2</td>\n",
              "    </tr>\n",
              "    <tr>\n",
              "      <th>2</th>\n",
              "      <td>C</td>\n",
              "      <td>3</td>\n",
              "    </tr>\n",
              "    <tr>\n",
              "      <th>3</th>\n",
              "      <td>D</td>\n",
              "      <td>4</td>\n",
              "    </tr>\n",
              "  </tbody>\n",
              "</table>\n",
              "</div>"
            ],
            "text/plain": [
              "  name  score\n",
              "1    B      2\n",
              "2    C      3\n",
              "3    D      4"
            ]
          },
          "metadata": {
            "tags": []
          },
          "execution_count": 59
        }
      ]
    },
    {
      "cell_type": "code",
      "metadata": {
        "id": "qZb_iZhpqZ0T",
        "colab": {
          "base_uri": "https://localhost:8080/",
          "height": 111
        },
        "outputId": "e99bb61f-b377-469b-9cb4-4eb8779b4881"
      },
      "source": [
        "# Example 5\n",
        "# Selecting DataFrame Rows Based On Conditions\n",
        "# \n",
        "\n",
        "# import numpy\n",
        "import numpy as np\n",
        "\n",
        "# Creating a dataframe\n",
        "raw_data = {'first_name': ['Jason', 'Molly', np.nan, np.nan, np.nan], \n",
        "        'nationality': ['USA', 'USA', 'France', 'UK', 'UK'], \n",
        "        'age': [42, 52, 36, 24, 70]}\n",
        "df = pd.DataFrame(raw_data, columns = ['first_name', 'nationality', 'age'])\n",
        "df\n",
        "\n",
        "# Method 1: Using Boolean Variables\n",
        "# Create variable with TRUE if nationality is USA\n",
        "# Uncomment the line below after running previous lines\n",
        "american = df['nationality'] == \"USA\"\n",
        "american\n",
        "\n",
        "# Create variable with TRUE if age is greater than 50\n",
        "# Uncomment the line below after running previous lines\n",
        "elderly = df['age'] > 50\n",
        "\n",
        "# Select all cases where nationality is USA and age is greater than 50\n",
        "# Uncomment the line below after running previous lines \n",
        "df[american & elderly]\n",
        "\n",
        "\n",
        "# Method 2: Using variable attributes\n",
        "# Select all cases where the first name is not missing and nationality is USA\n",
        "# Uncomment the line below after running previous lines\n",
        "df[df['first_name'].notnull() & (df['nationality'] == \"USA\")]"
      ],
      "execution_count": null,
      "outputs": [
        {
          "output_type": "execute_result",
          "data": {
            "text/html": [
              "<div>\n",
              "<style scoped>\n",
              "    .dataframe tbody tr th:only-of-type {\n",
              "        vertical-align: middle;\n",
              "    }\n",
              "\n",
              "    .dataframe tbody tr th {\n",
              "        vertical-align: top;\n",
              "    }\n",
              "\n",
              "    .dataframe thead th {\n",
              "        text-align: right;\n",
              "    }\n",
              "</style>\n",
              "<table border=\"1\" class=\"dataframe\">\n",
              "  <thead>\n",
              "    <tr style=\"text-align: right;\">\n",
              "      <th></th>\n",
              "      <th>first_name</th>\n",
              "      <th>nationality</th>\n",
              "      <th>age</th>\n",
              "    </tr>\n",
              "  </thead>\n",
              "  <tbody>\n",
              "    <tr>\n",
              "      <th>0</th>\n",
              "      <td>Jason</td>\n",
              "      <td>USA</td>\n",
              "      <td>42</td>\n",
              "    </tr>\n",
              "    <tr>\n",
              "      <th>1</th>\n",
              "      <td>Molly</td>\n",
              "      <td>USA</td>\n",
              "      <td>52</td>\n",
              "    </tr>\n",
              "  </tbody>\n",
              "</table>\n",
              "</div>"
            ],
            "text/plain": [
              "  first_name nationality  age\n",
              "0      Jason         USA   42\n",
              "1      Molly         USA   52"
            ]
          },
          "metadata": {
            "tags": []
          },
          "execution_count": 68
        }
      ]
    },
    {
      "cell_type": "code",
      "metadata": {
        "id": "7q-WUNwOqxgj",
        "colab": {
          "base_uri": "https://localhost:8080/",
          "height": 204
        },
        "outputId": "c13d4573-6cea-4793-a5c5-e842e785679e"
      },
      "source": [
        "# Example 6\n",
        "# Sorting Rows In pandas Dataframes\n",
        "# \n",
        "\n",
        "# Creating a Dataframe to work with\n",
        "data = {'name': ['Jason', 'Molly', 'Tina', 'Jake', 'Amy'], \n",
        "        'year': [2012, 2012, 2013, 2014, 2014], \n",
        "        'reports': [1, 2, 1, 2, 3],\n",
        "        'coverage': [2, 2, 3, 3, 3]}\n",
        "df = pd.DataFrame(data, index = ['Cochice', 'Pima', 'Santa Cruz', 'Maricopa', 'Yuma'])\n",
        "df\n",
        "\n",
        "# Sort the dataframe’s rows by reports, in descending order\n",
        "# Uncomment the line below after running previous lines\n",
        "df.sort_values(by='reports', ascending=False)\n",
        "\n",
        "# Sort the dataframe’s rows by coverage and then by reports, in ascending order\n",
        "# Uncomment the line below after running previous lines\n",
        "df.sort_values(by=['coverage', 'reports'])\n"
      ],
      "execution_count": null,
      "outputs": [
        {
          "output_type": "execute_result",
          "data": {
            "text/html": [
              "<div>\n",
              "<style scoped>\n",
              "    .dataframe tbody tr th:only-of-type {\n",
              "        vertical-align: middle;\n",
              "    }\n",
              "\n",
              "    .dataframe tbody tr th {\n",
              "        vertical-align: top;\n",
              "    }\n",
              "\n",
              "    .dataframe thead th {\n",
              "        text-align: right;\n",
              "    }\n",
              "</style>\n",
              "<table border=\"1\" class=\"dataframe\">\n",
              "  <thead>\n",
              "    <tr style=\"text-align: right;\">\n",
              "      <th></th>\n",
              "      <th>name</th>\n",
              "      <th>year</th>\n",
              "      <th>reports</th>\n",
              "      <th>coverage</th>\n",
              "    </tr>\n",
              "  </thead>\n",
              "  <tbody>\n",
              "    <tr>\n",
              "      <th>Cochice</th>\n",
              "      <td>Jason</td>\n",
              "      <td>2012</td>\n",
              "      <td>1</td>\n",
              "      <td>2</td>\n",
              "    </tr>\n",
              "    <tr>\n",
              "      <th>Pima</th>\n",
              "      <td>Molly</td>\n",
              "      <td>2012</td>\n",
              "      <td>2</td>\n",
              "      <td>2</td>\n",
              "    </tr>\n",
              "    <tr>\n",
              "      <th>Santa Cruz</th>\n",
              "      <td>Tina</td>\n",
              "      <td>2013</td>\n",
              "      <td>1</td>\n",
              "      <td>3</td>\n",
              "    </tr>\n",
              "    <tr>\n",
              "      <th>Maricopa</th>\n",
              "      <td>Jake</td>\n",
              "      <td>2014</td>\n",
              "      <td>2</td>\n",
              "      <td>3</td>\n",
              "    </tr>\n",
              "    <tr>\n",
              "      <th>Yuma</th>\n",
              "      <td>Amy</td>\n",
              "      <td>2014</td>\n",
              "      <td>3</td>\n",
              "      <td>3</td>\n",
              "    </tr>\n",
              "  </tbody>\n",
              "</table>\n",
              "</div>"
            ],
            "text/plain": [
              "             name  year  reports  coverage\n",
              "Cochice     Jason  2012        1         2\n",
              "Pima        Molly  2012        2         2\n",
              "Santa Cruz   Tina  2013        1         3\n",
              "Maricopa     Jake  2014        2         3\n",
              "Yuma          Amy  2014        3         3"
            ]
          },
          "metadata": {
            "tags": []
          },
          "execution_count": 72
        }
      ]
    },
    {
      "cell_type": "markdown",
      "metadata": {
        "id": "BfpO_aWfsXXQ"
      },
      "source": [
        "### <font color=\"green\">1.3 Challenges</font>"
      ]
    },
    {
      "cell_type": "code",
      "metadata": {
        "id": "EwS81YKwscx6",
        "colab": {
          "base_uri": "https://localhost:8080/",
          "height": 173
        },
        "outputId": "c4285214-e36e-47b0-da99-dea3ebbf1eff"
      },
      "source": [
        "# Challenge 1\n",
        "# Create a new column ranking the following cars by price \n",
        "# \n",
        "\n",
        "Cars = {'Brand': ['Honda Civic', 'Toyota Corolla', 'Ford Focus', 'Audi A4'],\n",
        "        'Price': [22000, 25000, 27000, 35000],\n",
        "        'Year': [2015, 2013, 2018, 2018]}\n",
        "\n",
        "mydf = pd.DataFrame(Cars)\n",
        "mydf\n",
        "mydf['carsPrice'] = mydf['Price'].rank(ascending = True)\n",
        "mydf\n",
        "mydf[['Brand', 'carsPrice']]"
      ],
      "execution_count": null,
      "outputs": [
        {
          "output_type": "execute_result",
          "data": {
            "text/html": [
              "<div>\n",
              "<style scoped>\n",
              "    .dataframe tbody tr th:only-of-type {\n",
              "        vertical-align: middle;\n",
              "    }\n",
              "\n",
              "    .dataframe tbody tr th {\n",
              "        vertical-align: top;\n",
              "    }\n",
              "\n",
              "    .dataframe thead th {\n",
              "        text-align: right;\n",
              "    }\n",
              "</style>\n",
              "<table border=\"1\" class=\"dataframe\">\n",
              "  <thead>\n",
              "    <tr style=\"text-align: right;\">\n",
              "      <th></th>\n",
              "      <th>Brand</th>\n",
              "      <th>carsPrice</th>\n",
              "    </tr>\n",
              "  </thead>\n",
              "  <tbody>\n",
              "    <tr>\n",
              "      <th>0</th>\n",
              "      <td>Honda Civic</td>\n",
              "      <td>1.0</td>\n",
              "    </tr>\n",
              "    <tr>\n",
              "      <th>1</th>\n",
              "      <td>Toyota Corolla</td>\n",
              "      <td>2.0</td>\n",
              "    </tr>\n",
              "    <tr>\n",
              "      <th>2</th>\n",
              "      <td>Ford Focus</td>\n",
              "      <td>3.0</td>\n",
              "    </tr>\n",
              "    <tr>\n",
              "      <th>3</th>\n",
              "      <td>Audi A4</td>\n",
              "      <td>4.0</td>\n",
              "    </tr>\n",
              "  </tbody>\n",
              "</table>\n",
              "</div>"
            ],
            "text/plain": [
              "            Brand  carsPrice\n",
              "0     Honda Civic        1.0\n",
              "1  Toyota Corolla        2.0\n",
              "2      Ford Focus        3.0\n",
              "3         Audi A4        4.0"
            ]
          },
          "metadata": {
            "tags": []
          },
          "execution_count": 83
        }
      ]
    },
    {
      "cell_type": "code",
      "metadata": {
        "id": "q4SFJY8Xsd8p",
        "colab": {
          "base_uri": "https://localhost:8080/",
          "height": 111
        },
        "outputId": "89424302-8777-4655-fe8b-1c848181f518"
      },
      "source": [
        "# Challenge 2\n",
        "# Let's get the rows when the column contains certain values\n",
        "#\n",
        "\n",
        "data = {'model': ['Lisa', 'Lisa 2', 'Macintosh 128K', 'Macintosh 512K'],\n",
        "        'launched': [1983, 1984, 1984, 1984],\n",
        "        'discontinued': [1986, 1985, 1984, 1986]}\n",
        "\n",
        "df = pd.DataFrame(data,columns = ['model', 'launched', 'discontinued'])\n",
        "df\n",
        "# Get the rows where the column model contains Lisa\n",
        "\n",
        "df[df['model'].map(lambda model: 'Lisa' in model)]\n",
        "# Get the rows where the column model does not contain Macintosh 128K\n",
        "df[~df['model'].map(lambda model: 'Macintosh' in model)] "
      ],
      "execution_count": null,
      "outputs": [
        {
          "output_type": "execute_result",
          "data": {
            "text/html": [
              "<div>\n",
              "<style scoped>\n",
              "    .dataframe tbody tr th:only-of-type {\n",
              "        vertical-align: middle;\n",
              "    }\n",
              "\n",
              "    .dataframe tbody tr th {\n",
              "        vertical-align: top;\n",
              "    }\n",
              "\n",
              "    .dataframe thead th {\n",
              "        text-align: right;\n",
              "    }\n",
              "</style>\n",
              "<table border=\"1\" class=\"dataframe\">\n",
              "  <thead>\n",
              "    <tr style=\"text-align: right;\">\n",
              "      <th></th>\n",
              "      <th>model</th>\n",
              "      <th>launched</th>\n",
              "      <th>discontinued</th>\n",
              "    </tr>\n",
              "  </thead>\n",
              "  <tbody>\n",
              "    <tr>\n",
              "      <th>0</th>\n",
              "      <td>Lisa</td>\n",
              "      <td>1983</td>\n",
              "      <td>1986</td>\n",
              "    </tr>\n",
              "    <tr>\n",
              "      <th>1</th>\n",
              "      <td>Lisa 2</td>\n",
              "      <td>1984</td>\n",
              "      <td>1985</td>\n",
              "    </tr>\n",
              "  </tbody>\n",
              "</table>\n",
              "</div>"
            ],
            "text/plain": [
              "    model  launched  discontinued\n",
              "0    Lisa      1983          1986\n",
              "1  Lisa 2      1984          1985"
            ]
          },
          "metadata": {
            "tags": []
          },
          "execution_count": 90
        }
      ]
    },
    {
      "cell_type": "code",
      "metadata": {
        "id": "fUZfz_79sfJO",
        "colab": {
          "base_uri": "https://localhost:8080/",
          "height": 142
        },
        "outputId": "bf2a0ea2-32f3-47b2-cd4e-f985c7bc1c39"
      },
      "source": [
        "# Challenge 3\n",
        "# Select the rows with the value blue or yellow from the Dataframe below\n",
        "#\n",
        "data = {'name': ['Willam', 'Alex', 'Oliech', 'Julie'],\n",
        "'age': [20, 19, 22, 21],\n",
        "'favorite_color': ['blue', 'blue', 'yellow', \"green\"],\n",
        "'grade': [88, 92, 95, 70]}\n",
        "df = pd.DataFrame(data,columns = ['name', 'age', 'favorite_color','grade'])\n",
        "\n",
        "df\n",
        "mycolor = df['favorite_color'] == \"blue\"\n",
        "my_color = df['favorite_color'] == \"yellow\"\n",
        "df[mycolor | my_color]"
      ],
      "execution_count": null,
      "outputs": [
        {
          "output_type": "execute_result",
          "data": {
            "text/html": [
              "<div>\n",
              "<style scoped>\n",
              "    .dataframe tbody tr th:only-of-type {\n",
              "        vertical-align: middle;\n",
              "    }\n",
              "\n",
              "    .dataframe tbody tr th {\n",
              "        vertical-align: top;\n",
              "    }\n",
              "\n",
              "    .dataframe thead th {\n",
              "        text-align: right;\n",
              "    }\n",
              "</style>\n",
              "<table border=\"1\" class=\"dataframe\">\n",
              "  <thead>\n",
              "    <tr style=\"text-align: right;\">\n",
              "      <th></th>\n",
              "      <th>name</th>\n",
              "      <th>age</th>\n",
              "      <th>favorite_color</th>\n",
              "      <th>grade</th>\n",
              "    </tr>\n",
              "  </thead>\n",
              "  <tbody>\n",
              "    <tr>\n",
              "      <th>0</th>\n",
              "      <td>Willam</td>\n",
              "      <td>20</td>\n",
              "      <td>blue</td>\n",
              "      <td>88</td>\n",
              "    </tr>\n",
              "    <tr>\n",
              "      <th>1</th>\n",
              "      <td>Alex</td>\n",
              "      <td>19</td>\n",
              "      <td>blue</td>\n",
              "      <td>92</td>\n",
              "    </tr>\n",
              "    <tr>\n",
              "      <th>2</th>\n",
              "      <td>Oliech</td>\n",
              "      <td>22</td>\n",
              "      <td>yellow</td>\n",
              "      <td>95</td>\n",
              "    </tr>\n",
              "  </tbody>\n",
              "</table>\n",
              "</div>"
            ],
            "text/plain": [
              "     name  age favorite_color  grade\n",
              "0  Willam   20           blue     88\n",
              "1    Alex   19           blue     92\n",
              "2  Oliech   22         yellow     95"
            ]
          },
          "metadata": {
            "tags": []
          },
          "execution_count": 102
        }
      ]
    },
    {
      "cell_type": "code",
      "metadata": {
        "id": "OXMrd5EUsgMY",
        "colab": {
          "base_uri": "https://localhost:8080/",
          "height": 626
        },
        "outputId": "8e18a242-4ac8-4981-82cc-1a1a1b6efb27"
      },
      "source": [
        "# Challenge 4\n",
        "# Using the following dataset, which counties have less than 50,000 households?\n",
        "# url = http://bit.ly/KeHouseholds1\n",
        "# This dataset shows the distribution of households based on their age group, gender and household head.\n",
        "#\n",
        "data = \"/content/Percentage_Distribution_of_Households_by_Age_and_Sex_of_Household_Head.csv\"\n",
        "df = pd.read_csv(data)\n",
        "df.head()\n",
        "#american = df['nationality'] == \"USA\"\n",
        "#mydata = df['Number_of_households'] < 50000\n",
        "#df[mydata]\n",
        "#rslt_df = df.sort_values(by = 'Number_of_households', ascending = False)\n",
        "#rslt_df.head(3)\n",
        "rslt_df = df.sort_values(by = 'Gender') \n",
        "rslt_df"
      ],
      "execution_count": null,
      "outputs": [
        {
          "output_type": "execute_result",
          "data": {
            "text/html": [
              "<div>\n",
              "<style scoped>\n",
              "    .dataframe tbody tr th:only-of-type {\n",
              "        vertical-align: middle;\n",
              "    }\n",
              "\n",
              "    .dataframe tbody tr th {\n",
              "        vertical-align: top;\n",
              "    }\n",
              "\n",
              "    .dataframe thead th {\n",
              "        text-align: right;\n",
              "    }\n",
              "</style>\n",
              "<table border=\"1\" class=\"dataframe\">\n",
              "  <thead>\n",
              "    <tr style=\"text-align: right;\">\n",
              "      <th></th>\n",
              "      <th>County</th>\n",
              "      <th>Gender</th>\n",
              "      <th>Age_Group_of_Household_head_15-24_%_</th>\n",
              "      <th>Age_Group_of_Household_head_25-34_%</th>\n",
              "      <th>Age_Group_of_Household_head_35-59_%</th>\n",
              "      <th>Age_Group_of_Household_head_60+_%</th>\n",
              "      <th>Number_of_households</th>\n",
              "      <th>County_Centroid</th>\n",
              "      <th>OBJECTID</th>\n",
              "    </tr>\n",
              "  </thead>\n",
              "  <tbody>\n",
              "    <tr>\n",
              "      <th>0</th>\n",
              "      <td>Mombasa</td>\n",
              "      <td>Female</td>\n",
              "      <td>16.8%</td>\n",
              "      <td>36.8%</td>\n",
              "      <td>39.5%</td>\n",
              "      <td>6.8%</td>\n",
              "      <td>59858</td>\n",
              "      <td>(-4.018795613, 39.653975520000003)</td>\n",
              "      <td>0</td>\n",
              "    </tr>\n",
              "    <tr>\n",
              "      <th>26</th>\n",
              "      <td>Homa Bay</td>\n",
              "      <td>Female</td>\n",
              "      <td>10.6%</td>\n",
              "      <td>23.3%</td>\n",
              "      <td>42.4%</td>\n",
              "      <td>23.7%</td>\n",
              "      <td>90126</td>\n",
              "      <td>(-0.54096459799999996, 34.357439360000001)</td>\n",
              "      <td>26</td>\n",
              "    </tr>\n",
              "    <tr>\n",
              "      <th>27</th>\n",
              "      <td>Migori</td>\n",
              "      <td>Female</td>\n",
              "      <td>11%</td>\n",
              "      <td>24.4%</td>\n",
              "      <td>44.6%</td>\n",
              "      <td>20%</td>\n",
              "      <td>68964</td>\n",
              "      <td>(-0.987697987, 34.368357680000003)</td>\n",
              "      <td>27</td>\n",
              "    </tr>\n",
              "    <tr>\n",
              "      <th>28</th>\n",
              "      <td>Kisii</td>\n",
              "      <td>Female</td>\n",
              "      <td>11%</td>\n",
              "      <td>23.6%</td>\n",
              "      <td>44.1%</td>\n",
              "      <td>21.4%</td>\n",
              "      <td>84024</td>\n",
              "      <td>(-0.77064898299999995, 34.775954489999997)</td>\n",
              "      <td>28</td>\n",
              "    </tr>\n",
              "    <tr>\n",
              "      <th>29</th>\n",
              "      <td>Nyamira</td>\n",
              "      <td>Female</td>\n",
              "      <td>9.7%</td>\n",
              "      <td>23.8%</td>\n",
              "      <td>43.8%</td>\n",
              "      <td>22.7%</td>\n",
              "      <td>43093</td>\n",
              "      <td>(-0.64099632399999995, 34.965002290000001)</td>\n",
              "      <td>29</td>\n",
              "    </tr>\n",
              "    <tr>\n",
              "      <th>...</th>\n",
              "      <td>...</td>\n",
              "      <td>...</td>\n",
              "      <td>...</td>\n",
              "      <td>...</td>\n",
              "      <td>...</td>\n",
              "      <td>...</td>\n",
              "      <td>...</td>\n",
              "      <td>...</td>\n",
              "      <td>...</td>\n",
              "    </tr>\n",
              "    <tr>\n",
              "      <th>65</th>\n",
              "      <td>Kitui</td>\n",
              "      <td>Male</td>\n",
              "      <td>6%</td>\n",
              "      <td>20.9%</td>\n",
              "      <td>50.4%</td>\n",
              "      <td>22.7%</td>\n",
              "      <td>112733</td>\n",
              "      <td>(-1.4867170190000001, 38.405995099999998)</td>\n",
              "      <td>65</td>\n",
              "    </tr>\n",
              "    <tr>\n",
              "      <th>66</th>\n",
              "      <td>Machakos</td>\n",
              "      <td>Male</td>\n",
              "      <td>7.4%</td>\n",
              "      <td>25.7%</td>\n",
              "      <td>49.7%</td>\n",
              "      <td>17.2%</td>\n",
              "      <td>167642</td>\n",
              "      <td>(-1.2728947989999999, 37.41023963)</td>\n",
              "      <td>66</td>\n",
              "    </tr>\n",
              "    <tr>\n",
              "      <th>67</th>\n",
              "      <td>Makueni</td>\n",
              "      <td>Male</td>\n",
              "      <td>6.1%</td>\n",
              "      <td>20.5%</td>\n",
              "      <td>52%</td>\n",
              "      <td>21.5%</td>\n",
              "      <td>109372</td>\n",
              "      <td>(-2.150161105, 37.783676219999997)</td>\n",
              "      <td>67</td>\n",
              "    </tr>\n",
              "    <tr>\n",
              "      <th>69</th>\n",
              "      <td>Wajir</td>\n",
              "      <td>Male</td>\n",
              "      <td>3.1%</td>\n",
              "      <td>21%</td>\n",
              "      <td>60.3%</td>\n",
              "      <td>15.6%</td>\n",
              "      <td>71715</td>\n",
              "      <td>(1.8078659530000001, 40.035683050000003)</td>\n",
              "      <td>69</td>\n",
              "    </tr>\n",
              "    <tr>\n",
              "      <th>93</th>\n",
              "      <td>Busia</td>\n",
              "      <td>Male</td>\n",
              "      <td>9.4%</td>\n",
              "      <td>29.5%</td>\n",
              "      <td>44.9%</td>\n",
              "      <td>16.2%</td>\n",
              "      <td>95861</td>\n",
              "      <td>(0.385079797, 34.191127909999999)</td>\n",
              "      <td>93</td>\n",
              "    </tr>\n",
              "  </tbody>\n",
              "</table>\n",
              "<p>94 rows × 9 columns</p>\n",
              "</div>"
            ],
            "text/plain": [
              "      County  Gender  ...                             County_Centroid OBJECTID\n",
              "0    Mombasa  Female  ...          (-4.018795613, 39.653975520000003)        0\n",
              "26  Homa Bay  Female  ...  (-0.54096459799999996, 34.357439360000001)       26\n",
              "27    Migori  Female  ...          (-0.987697987, 34.368357680000003)       27\n",
              "28     Kisii  Female  ...  (-0.77064898299999995, 34.775954489999997)       28\n",
              "29   Nyamira  Female  ...  (-0.64099632399999995, 34.965002290000001)       29\n",
              "..       ...     ...  ...                                         ...      ...\n",
              "65     Kitui    Male  ...   (-1.4867170190000001, 38.405995099999998)       65\n",
              "66  Machakos    Male  ...          (-1.2728947989999999, 37.41023963)       66\n",
              "67   Makueni    Male  ...          (-2.150161105, 37.783676219999997)       67\n",
              "69     Wajir    Male  ...    (1.8078659530000001, 40.035683050000003)       69\n",
              "93     Busia    Male  ...           (0.385079797, 34.191127909999999)       93\n",
              "\n",
              "[94 rows x 9 columns]"
            ]
          },
          "metadata": {
            "tags": []
          },
          "execution_count": 115
        }
      ]
    },
    {
      "cell_type": "code",
      "metadata": {
        "id": "nUd5qnwashOE"
      },
      "source": [
        "# Challenge 5\n",
        "# Using the following dataset, Which top 3 municipalities have the highest population?\n",
        "# url = http://bit.ly/KePopulationDistribution1\n",
        "# \n"
      ],
      "execution_count": null,
      "outputs": []
    },
    {
      "cell_type": "code",
      "metadata": {
        "id": "d79MaLZ6si_o"
      },
      "source": [
        "# Challenge 6\n",
        "# Using the dataset given in challenge 5, sort the rows by the total core urban population \n",
        "#\n",
        "OUR CODE GOES HERE"
      ],
      "execution_count": null,
      "outputs": []
    },
    {
      "cell_type": "code",
      "metadata": {
        "id": "5XzRgbIzBJ6d",
        "colab": {
          "base_uri": "https://localhost:8080/",
          "height": 69
        },
        "outputId": "b46f69e4-ffc8-4acc-d8a5-3897447b7fe7"
      },
      "source": [
        "# Challenge 7\n",
        "# Using the following dataset, Which quarter experienced the highest no. of visitors after 2007\n",
        "# url = http://bit.ly/VisitorsToKenya\n",
        "# This dataset comprises of visitor arrivals and departures Between 1991 up to 2014 by the purpose of visiting Kenya\n",
        "# \n",
        "# OUR CODE GOES HERE\n",
        "import pandas as pd\n",
        "data = \"/content/visitors_to_kenya (1).csv\"\n",
        "df  = pd.read_csv(data )\n",
        "df.head()\n",
        "#mycolor = df['favorite_color'] == \"blue\"\n",
        "#my_color = df['favorite_color'] == \"yellow\"\n",
        "#df[mycolor | my_color]\n",
        "\n",
        "rslt_df = df[(df['Year_Text'] > '2007') & \n",
        "          df['No_of_Visitors_to_Kenya'].max()] \n",
        "rslt_df"
      ],
      "execution_count": null,
      "outputs": [
        {
          "output_type": "execute_result",
          "data": {
            "text/html": [
              "<div>\n",
              "<style scoped>\n",
              "    .dataframe tbody tr th:only-of-type {\n",
              "        vertical-align: middle;\n",
              "    }\n",
              "\n",
              "    .dataframe tbody tr th {\n",
              "        vertical-align: top;\n",
              "    }\n",
              "\n",
              "    .dataframe thead th {\n",
              "        text-align: right;\n",
              "    }\n",
              "</style>\n",
              "<table border=\"1\" class=\"dataframe\">\n",
              "  <thead>\n",
              "    <tr style=\"text-align: right;\">\n",
              "      <th></th>\n",
              "      <th>Arrival_or_Departure</th>\n",
              "      <th>Date_End_of_Quater</th>\n",
              "      <th>Year_Text</th>\n",
              "      <th>No_of_Visitors_to_Kenya</th>\n",
              "      <th>Visitors_by_Purpose</th>\n",
              "      <th>Period_Quater</th>\n",
              "      <th>Results_Status</th>\n",
              "      <th>OBJECTID</th>\n",
              "    </tr>\n",
              "  </thead>\n",
              "  <tbody>\n",
              "  </tbody>\n",
              "</table>\n",
              "</div>"
            ],
            "text/plain": [
              "Empty DataFrame\n",
              "Columns: [Arrival_or_Departure, Date_End_of_Quater, Year_Text, No_of_Visitors_to_Kenya, Visitors_by_Purpose, Period_Quater, Results_Status, OBJECTID]\n",
              "Index: []"
            ]
          },
          "metadata": {
            "tags": []
          },
          "execution_count": 127
        }
      ]
    },
    {
      "cell_type": "markdown",
      "metadata": {
        "id": "IwxDABvUp97g"
      },
      "source": [
        "## 1.4 Cleaning"
      ]
    },
    {
      "cell_type": "code",
      "metadata": {
        "id": "4yj3yDXQqbR2",
        "colab": {
          "base_uri": "https://localhost:8080/",
          "height": 142
        },
        "outputId": "14139025-72e0-4789-a66d-38ce2862356e"
      },
      "source": [
        "# Example 1\n",
        "# Assign a new column to a Pandas DataFrame\n",
        "# \n",
        "\n",
        "# Create empty dataframe\n",
        "df = pd.DataFrame() \n",
        "df['name'] = ['John', 'Steve', 'Sarah'] \n",
        "df\n",
        " \n",
        "# Assign a new column to df called 'age' with a list of ages\n",
        "# Uncomment the line below after running previous lines\n",
        "df.assign(age = [31, 32, 19]) "
      ],
      "execution_count": null,
      "outputs": [
        {
          "output_type": "execute_result",
          "data": {
            "text/html": [
              "<div>\n",
              "<style scoped>\n",
              "    .dataframe tbody tr th:only-of-type {\n",
              "        vertical-align: middle;\n",
              "    }\n",
              "\n",
              "    .dataframe tbody tr th {\n",
              "        vertical-align: top;\n",
              "    }\n",
              "\n",
              "    .dataframe thead th {\n",
              "        text-align: right;\n",
              "    }\n",
              "</style>\n",
              "<table border=\"1\" class=\"dataframe\">\n",
              "  <thead>\n",
              "    <tr style=\"text-align: right;\">\n",
              "      <th></th>\n",
              "      <th>name</th>\n",
              "      <th>age</th>\n",
              "    </tr>\n",
              "  </thead>\n",
              "  <tbody>\n",
              "    <tr>\n",
              "      <th>0</th>\n",
              "      <td>John</td>\n",
              "      <td>31</td>\n",
              "    </tr>\n",
              "    <tr>\n",
              "      <th>1</th>\n",
              "      <td>Steve</td>\n",
              "      <td>32</td>\n",
              "    </tr>\n",
              "    <tr>\n",
              "      <th>2</th>\n",
              "      <td>Sarah</td>\n",
              "      <td>19</td>\n",
              "    </tr>\n",
              "  </tbody>\n",
              "</table>\n",
              "</div>"
            ],
            "text/plain": [
              "    name  age\n",
              "0   John   31\n",
              "1  Steve   32\n",
              "2  Sarah   19"
            ]
          },
          "metadata": {
            "tags": []
          },
          "execution_count": 129
        }
      ]
    },
    {
      "cell_type": "code",
      "metadata": {
        "id": "m05L3x9YqbJa",
        "colab": {
          "base_uri": "https://localhost:8080/",
          "height": 204
        },
        "outputId": "40979a7d-cb68-4bc8-d9c8-290e73c88c08"
      },
      "source": [
        "# Example 2\n",
        "# Lowercase column names in Pandas Dataframe\n",
        "#\n",
        "\n",
        "# Let's first set ipython's max row display\n",
        "pd.set_option('display.max_row', 1000)\n",
        "\n",
        "# Let's first set iPython's max column width to 50\n",
        "pd.set_option('display.max_columns', 50)\n",
        "\n",
        "# Create an example dataframe\n",
        "data = {'NAME': ['Jason', 'Molly', 'Tina', 'Jake', 'Amy'], \n",
        "        'YEAR': [2012, 2012, 2013, 2014, 2014], \n",
        "        'REPORTS': [4, 24, 31, 2, 3]}\n",
        "df = pd.DataFrame(data, index = ['Cochice', 'Pima', 'Santa Cruz', 'Maricopa', 'Yuma'])\n",
        "df\n",
        " \n",
        "# Map the lowering function to all column names\n",
        "# Uncomment the line below after running previous lines\n",
        "df.columns = map(str.lower, df.columns)\n",
        "df"
      ],
      "execution_count": null,
      "outputs": [
        {
          "output_type": "execute_result",
          "data": {
            "text/html": [
              "<div>\n",
              "<style scoped>\n",
              "    .dataframe tbody tr th:only-of-type {\n",
              "        vertical-align: middle;\n",
              "    }\n",
              "\n",
              "    .dataframe tbody tr th {\n",
              "        vertical-align: top;\n",
              "    }\n",
              "\n",
              "    .dataframe thead th {\n",
              "        text-align: right;\n",
              "    }\n",
              "</style>\n",
              "<table border=\"1\" class=\"dataframe\">\n",
              "  <thead>\n",
              "    <tr style=\"text-align: right;\">\n",
              "      <th></th>\n",
              "      <th>name</th>\n",
              "      <th>year</th>\n",
              "      <th>reports</th>\n",
              "    </tr>\n",
              "  </thead>\n",
              "  <tbody>\n",
              "    <tr>\n",
              "      <th>Cochice</th>\n",
              "      <td>Jason</td>\n",
              "      <td>2012</td>\n",
              "      <td>4</td>\n",
              "    </tr>\n",
              "    <tr>\n",
              "      <th>Pima</th>\n",
              "      <td>Molly</td>\n",
              "      <td>2012</td>\n",
              "      <td>24</td>\n",
              "    </tr>\n",
              "    <tr>\n",
              "      <th>Santa Cruz</th>\n",
              "      <td>Tina</td>\n",
              "      <td>2013</td>\n",
              "      <td>31</td>\n",
              "    </tr>\n",
              "    <tr>\n",
              "      <th>Maricopa</th>\n",
              "      <td>Jake</td>\n",
              "      <td>2014</td>\n",
              "      <td>2</td>\n",
              "    </tr>\n",
              "    <tr>\n",
              "      <th>Yuma</th>\n",
              "      <td>Amy</td>\n",
              "      <td>2014</td>\n",
              "      <td>3</td>\n",
              "    </tr>\n",
              "  </tbody>\n",
              "</table>\n",
              "</div>"
            ],
            "text/plain": [
              "             name  year  reports\n",
              "Cochice     Jason  2012        4\n",
              "Pima        Molly  2012       24\n",
              "Santa Cruz   Tina  2013       31\n",
              "Maricopa     Jake  2014        2\n",
              "Yuma          Amy  2014        3"
            ]
          },
          "metadata": {
            "tags": []
          },
          "execution_count": 131
        }
      ]
    },
    {
      "cell_type": "code",
      "metadata": {
        "id": "qo5k1y_7qBto",
        "colab": {
          "base_uri": "https://localhost:8080/",
          "height": 173
        },
        "outputId": "e2a3ca16-d56b-4a99-91ef-166644795c81"
      },
      "source": [
        "# Example 3\n",
        "# While doing data analysis, finding duplicates in your data is very important. \n",
        "# Delete duplicates in pandas\n",
        "#\n",
        "\n",
        "\n",
        "# Create dataframe with duplicates\n",
        "raw_data = {'first_name': ['Jason', 'Jason', 'Jason','Tina', 'Jake', 'Amy'], \n",
        "        'last_name': ['Miller', 'Miller', 'Miller','Ali', 'Milner', 'Cooze'], \n",
        "        'age': [42, 42, 1111111, 36, 24, 73], \n",
        "        'preTestScore': [4, 4, 4, 31, 2, 3],\n",
        "        'postTestScore': [25, 25, 25, 57, 62, 70]}\n",
        "df = pd.DataFrame(raw_data, columns = ['first_name', 'last_name', 'age', 'preTestScore', 'postTestScore'])\n",
        "df\n",
        "\n",
        "# Identify which observations are duplicates\n",
        "# Uncomment the line below after running previous lines\n",
        "df.duplicated()\n",
        "\n",
        "# Drop duplicates\n",
        "# Uncomment the line below after running previous lines\n",
        "df.drop_duplicates()\n",
        "\n",
        "# Drop duplicates in a specific column\n",
        "# Uncomment the line below after running previous lines\n",
        "df.drop_duplicates(['first_name'], keep='last')"
      ],
      "execution_count": null,
      "outputs": [
        {
          "output_type": "execute_result",
          "data": {
            "text/html": [
              "<div>\n",
              "<style scoped>\n",
              "    .dataframe tbody tr th:only-of-type {\n",
              "        vertical-align: middle;\n",
              "    }\n",
              "\n",
              "    .dataframe tbody tr th {\n",
              "        vertical-align: top;\n",
              "    }\n",
              "\n",
              "    .dataframe thead th {\n",
              "        text-align: right;\n",
              "    }\n",
              "</style>\n",
              "<table border=\"1\" class=\"dataframe\">\n",
              "  <thead>\n",
              "    <tr style=\"text-align: right;\">\n",
              "      <th></th>\n",
              "      <th>first_name</th>\n",
              "      <th>last_name</th>\n",
              "      <th>age</th>\n",
              "      <th>preTestScore</th>\n",
              "      <th>postTestScore</th>\n",
              "    </tr>\n",
              "  </thead>\n",
              "  <tbody>\n",
              "    <tr>\n",
              "      <th>2</th>\n",
              "      <td>Jason</td>\n",
              "      <td>Miller</td>\n",
              "      <td>1111111</td>\n",
              "      <td>4</td>\n",
              "      <td>25</td>\n",
              "    </tr>\n",
              "    <tr>\n",
              "      <th>3</th>\n",
              "      <td>Tina</td>\n",
              "      <td>Ali</td>\n",
              "      <td>36</td>\n",
              "      <td>31</td>\n",
              "      <td>57</td>\n",
              "    </tr>\n",
              "    <tr>\n",
              "      <th>4</th>\n",
              "      <td>Jake</td>\n",
              "      <td>Milner</td>\n",
              "      <td>24</td>\n",
              "      <td>2</td>\n",
              "      <td>62</td>\n",
              "    </tr>\n",
              "    <tr>\n",
              "      <th>5</th>\n",
              "      <td>Amy</td>\n",
              "      <td>Cooze</td>\n",
              "      <td>73</td>\n",
              "      <td>3</td>\n",
              "      <td>70</td>\n",
              "    </tr>\n",
              "  </tbody>\n",
              "</table>\n",
              "</div>"
            ],
            "text/plain": [
              "  first_name last_name      age  preTestScore  postTestScore\n",
              "2      Jason    Miller  1111111             4             25\n",
              "3       Tina       Ali       36            31             57\n",
              "4       Jake    Milner       24             2             62\n",
              "5        Amy     Cooze       73             3             70"
            ]
          },
          "metadata": {
            "tags": []
          },
          "execution_count": 135
        }
      ]
    },
    {
      "cell_type": "code",
      "metadata": {
        "id": "SuVreA2DqCuS",
        "colab": {
          "base_uri": "https://localhost:8080/",
          "height": 142
        },
        "outputId": "649b11ca-995e-42d7-985a-22a582382f9d"
      },
      "source": [
        "# Example 4\n",
        "# Another crucial part of data analysis is finding missing data and deleting them. Let's lookd at how to deal with missing data \n",
        "# Missing data in pandas Dataframes\n",
        "#\n",
        "\n",
        "raw_data = {'first_name': ['Jason', np.nan, 'Tina', 'Jake', 'Amy'], \n",
        "        'last_name': ['Miller', np.nan, 'Ali', 'Milner', 'Cooze'], \n",
        "        'age': [42, np.nan, 36, 24, 73], \n",
        "        'sex': ['m', np.nan, 'f', 'm', 'f'], \n",
        "        'preTestScore': [4, np.nan, np.nan, 2, 3],\n",
        "        'postTestScore': [25, np.nan, np.nan, 62, 70]}\n",
        "df = pd.DataFrame(raw_data, columns = ['first_name', 'last_name', 'age', 'sex', 'preTestScore', 'postTestScore'])\n",
        "df\n",
        "\n",
        "# Checking if there are missing values in your data\n",
        "# Uncomment the line below after running previous lines\n",
        "df.isnull() #returns a boolean value for all the cells that have Nan  value\n",
        "\n",
        "\n",
        "# Drop missing observations\n",
        "# Uncomment the line below after running previous lines\n",
        "df_no_missing = df.dropna()\n",
        "df_no_missing\n",
        "\n",
        "# Drop rows where all cells in that row is NA\n",
        "# Uncomment the line below after running previous lines\n",
        "# df_cleaned = df.dropna(how='all')\n",
        "# df_cleaned\n",
        "\n",
        "# Drop column if they only contain missing values\n",
        "# Uncomment the line below after running previous lines\n",
        "# df.dropna(axis=1, how='all')\n",
        "\n",
        "# Drop rows that contain less than five observations\n",
        "# Uncomment the line below after running previous lines\n",
        "# df.dropna(thresh=5)\n",
        "\n",
        "# Fill in missing data with zeros\n",
        "# Uncomment the line below after running previous lines\n",
        "# df.fillna(0)\n",
        "\n",
        "# Fill in missing in preTestScore with the mean value of preTestScore\n",
        "# Uncomment the line below after running previous lines\n",
        "# df[\"preTestScore\"].fillna(df[\"preTestScore\"].mean(), inplace=True)\n",
        "# df"
      ],
      "execution_count": null,
      "outputs": [
        {
          "output_type": "execute_result",
          "data": {
            "text/html": [
              "<div>\n",
              "<style scoped>\n",
              "    .dataframe tbody tr th:only-of-type {\n",
              "        vertical-align: middle;\n",
              "    }\n",
              "\n",
              "    .dataframe tbody tr th {\n",
              "        vertical-align: top;\n",
              "    }\n",
              "\n",
              "    .dataframe thead th {\n",
              "        text-align: right;\n",
              "    }\n",
              "</style>\n",
              "<table border=\"1\" class=\"dataframe\">\n",
              "  <thead>\n",
              "    <tr style=\"text-align: right;\">\n",
              "      <th></th>\n",
              "      <th>first_name</th>\n",
              "      <th>last_name</th>\n",
              "      <th>age</th>\n",
              "      <th>sex</th>\n",
              "      <th>preTestScore</th>\n",
              "      <th>postTestScore</th>\n",
              "    </tr>\n",
              "  </thead>\n",
              "  <tbody>\n",
              "    <tr>\n",
              "      <th>0</th>\n",
              "      <td>Jason</td>\n",
              "      <td>Miller</td>\n",
              "      <td>42.0</td>\n",
              "      <td>m</td>\n",
              "      <td>4.0</td>\n",
              "      <td>25.0</td>\n",
              "    </tr>\n",
              "    <tr>\n",
              "      <th>3</th>\n",
              "      <td>Jake</td>\n",
              "      <td>Milner</td>\n",
              "      <td>24.0</td>\n",
              "      <td>m</td>\n",
              "      <td>2.0</td>\n",
              "      <td>62.0</td>\n",
              "    </tr>\n",
              "    <tr>\n",
              "      <th>4</th>\n",
              "      <td>Amy</td>\n",
              "      <td>Cooze</td>\n",
              "      <td>73.0</td>\n",
              "      <td>f</td>\n",
              "      <td>3.0</td>\n",
              "      <td>70.0</td>\n",
              "    </tr>\n",
              "  </tbody>\n",
              "</table>\n",
              "</div>"
            ],
            "text/plain": [
              "  first_name last_name   age sex  preTestScore  postTestScore\n",
              "0      Jason    Miller  42.0   m           4.0           25.0\n",
              "3       Jake    Milner  24.0   m           2.0           62.0\n",
              "4        Amy     Cooze  73.0   f           3.0           70.0"
            ]
          },
          "metadata": {
            "tags": []
          },
          "execution_count": 139
        }
      ]
    },
    {
      "cell_type": "code",
      "metadata": {
        "id": "U_7vT83gq0TP",
        "colab": {
          "base_uri": "https://localhost:8080/",
          "height": 204
        },
        "outputId": "52e757cc-b224-4fdb-fab2-cd0126bd47b3"
      },
      "source": [
        "# Example 5\n",
        "# Dropping rows and columns in pandas Dataframe\n",
        "#\n",
        "\n",
        "# Create a dataframe\n",
        "data = {'name': ['Jason', 'Molly', 'Tina', 'Jake', 'Amy'], \n",
        "        'year': [2012, 2012, 2013, 2014, 2014], \n",
        "        'reports': [4, 24, 31, 2, 3]}\n",
        "df = pd.DataFrame(data, index = ['Cochice', 'Pima', 'Santa Cruz', 'Maricopa', 'Yuma'])\n",
        "df\n",
        "\n",
        "# Drop an observation (row)\n",
        "# Uncomment the line below after running previous lines\n",
        "# df.drop(['Cochice', 'Pima'])\n",
        "\n",
        "# Drop a variable (column). \n",
        "# NB: axis=1 denotes that we are referring to a column, not a row\n",
        "# Uncomment the line below after running previous lines\n",
        "# df.drop('reports', axis=1)\n",
        "\n",
        "# Drop a row if it contains a certain value (in this case, “Tina”)\n",
        "# Create a new dataframe called df that includes all rows where \n",
        "# the value of a cell in the name column does not equal “Tina”\n",
        "# Uncomment the line below after running previous lines\n",
        "# df[df.name != 'Tina']\n"
      ],
      "execution_count": null,
      "outputs": [
        {
          "output_type": "execute_result",
          "data": {
            "text/html": [
              "<div>\n",
              "<style scoped>\n",
              "    .dataframe tbody tr th:only-of-type {\n",
              "        vertical-align: middle;\n",
              "    }\n",
              "\n",
              "    .dataframe tbody tr th {\n",
              "        vertical-align: top;\n",
              "    }\n",
              "\n",
              "    .dataframe thead th {\n",
              "        text-align: right;\n",
              "    }\n",
              "</style>\n",
              "<table border=\"1\" class=\"dataframe\">\n",
              "  <thead>\n",
              "    <tr style=\"text-align: right;\">\n",
              "      <th></th>\n",
              "      <th>name</th>\n",
              "      <th>year</th>\n",
              "      <th>reports</th>\n",
              "    </tr>\n",
              "  </thead>\n",
              "  <tbody>\n",
              "    <tr>\n",
              "      <th>Cochice</th>\n",
              "      <td>Jason</td>\n",
              "      <td>2012</td>\n",
              "      <td>4</td>\n",
              "    </tr>\n",
              "    <tr>\n",
              "      <th>Pima</th>\n",
              "      <td>Molly</td>\n",
              "      <td>2012</td>\n",
              "      <td>24</td>\n",
              "    </tr>\n",
              "    <tr>\n",
              "      <th>Santa Cruz</th>\n",
              "      <td>Tina</td>\n",
              "      <td>2013</td>\n",
              "      <td>31</td>\n",
              "    </tr>\n",
              "    <tr>\n",
              "      <th>Maricopa</th>\n",
              "      <td>Jake</td>\n",
              "      <td>2014</td>\n",
              "      <td>2</td>\n",
              "    </tr>\n",
              "    <tr>\n",
              "      <th>Yuma</th>\n",
              "      <td>Amy</td>\n",
              "      <td>2014</td>\n",
              "      <td>3</td>\n",
              "    </tr>\n",
              "  </tbody>\n",
              "</table>\n",
              "</div>"
            ],
            "text/plain": [
              "             name  year  reports\n",
              "Cochice     Jason  2012        4\n",
              "Pima        Molly  2012       24\n",
              "Santa Cruz   Tina  2013       31\n",
              "Maricopa     Jake  2014        2\n",
              "Yuma          Amy  2014        3"
            ]
          },
          "metadata": {
            "tags": []
          },
          "execution_count": 140
        }
      ]
    },
    {
      "cell_type": "markdown",
      "metadata": {
        "id": "66Fjm3xmslG7"
      },
      "source": [
        "### <font color=\"green\">1.4 Challenges</font>"
      ]
    },
    {
      "cell_type": "code",
      "metadata": {
        "id": "RH_6cmIostHA"
      },
      "source": [
        "# Challenge 1\n",
        "# Let's assign the new column address to the created dataframe frow the dictionary below\n",
        "#\n",
        "\n",
        "# Define a dictionary containing Students data \n",
        "finals = {'Name': ['Robert', 'Thomas', 'Susan', 'Irene'], \n",
        "        'Height': [5.1, 6.2, 5.1, 5.2], \n",
        "        'Qualification': ['Msc', 'MA', 'Msc', 'Msc']} \n",
        "address = ['UoN', 'Strathmore', 'JKUAT', 'JKUAT'] \n",
        "\n",
        "OUR CODE GOES HERE"
      ],
      "execution_count": null,
      "outputs": []
    },
    {
      "cell_type": "code",
      "metadata": {
        "id": "73tUDU64stqu"
      },
      "source": [
        "# Challenge 2\n",
        "# Let us lowercase the column names in the following dataset\n",
        "# url = http://bit.ly/KePopulationDistribution1\n",
        "#\n",
        "OUR CODE GOES HERE"
      ],
      "execution_count": null,
      "outputs": []
    },
    {
      "cell_type": "code",
      "metadata": {
        "id": "1Q0-ybtZstks"
      },
      "source": [
        "# Challenge 3\n",
        "# Delete duplicate values from the dictionary below\n",
        "# \n",
        "\n",
        "# First creating the following DataFrame\n",
        "d = {\n",
        "    'Name':['Alice','Brian','Rhoda','Pauline','Julius','Catherine',\n",
        "            'Alice','Brian','Kellen','Alice','Alex','Yvonne'],\n",
        "    'Age':[26,24,23,22,23,24,26,24,22,23,24,24],\n",
        "    'Score':[85,63,55,74,31,77,85,63,42,62,89,77]}\n",
        "\n",
        "OUR CODE GOES HERE"
      ],
      "execution_count": null,
      "outputs": []
    },
    {
      "cell_type": "code",
      "metadata": {
        "id": "54xutk3fstfP"
      },
      "source": [
        "# Challenge 4\n",
        "# Drop the missing columns \n",
        "#\n",
        "\n",
        "# Creating our DataFrame\n",
        "df = {'Name':['George','Andrea','micheal','maggie','Ravi','Xien','Jalpa',np.nan],\n",
        "    'State':['Arizona','Georgia','Newyork','Indiana','Florida','California',np.nan,np.nan],\n",
        "    'Gender':[\"M\",\"F\",\"M\",\"F\",\"M\",\"M\",np.nan,np.nan],      \n",
        "    'Score':[63,48,56,75,np.nan,77,np.nan,np.nan]}\n",
        "\n",
        "# Drop all rows that have any NaN (missing) values\n",
        "OUR CODE GOES HERE\n",
        "\n",
        "# Drop records which have more than 2 missing values\n",
        "OUR CODE GOES HERE\n",
        "\n"
      ],
      "execution_count": null,
      "outputs": []
    },
    {
      "cell_type": "code",
      "metadata": {
        "id": "J-4ZiKtrsySp"
      },
      "source": [
        "# Challenge 5\n",
        "# Using the following dataset given, get the records which contain missing observations,\n",
        "# then make a decision which records to delete based on the context.\n",
        "# Act on the decision taken (i.e. Drop/Not dropping) and state your decision below\n",
        "# url = http://bit.ly/KePopulationDistribution1\n",
        "# \n",
        "\n",
        "OUR CODE GOES HERE\n",
        "\n",
        "# Decision Taken:\n",
        "# YOUR DECISION GOES HERE\n",
        "#"
      ],
      "execution_count": null,
      "outputs": []
    },
    {
      "cell_type": "markdown",
      "metadata": {
        "id": "7jHC3c0jqFHy"
      },
      "source": [
        "## 1.5 Analysis"
      ]
    },
    {
      "cell_type": "code",
      "metadata": {
        "id": "avpOVTs-qIPl",
        "colab": {
          "base_uri": "https://localhost:8080/",
          "height": 142
        },
        "outputId": "623e726c-652f-49ed-eff5-5e374da8940a"
      },
      "source": [
        "# Example 1\n",
        "# Descriptive Statistics For pandas Dataframe\n",
        "#\n",
        "\n",
        "data = {'name': ['Jason', 'Molly', 'Tina', 'Jake', 'Amy'], \n",
        "        'age': [42, 52, 36, 24, 73], \n",
        "        'preTestScore': [4, 24, 31, 2, 3],\n",
        "        'postTestScore': [25, 94, 57, 62, 70]}\n",
        "df = pd.DataFrame(data, columns = ['name', 'age', 'preTestScore', 'postTestScore'])\n",
        "df\n",
        "\n",
        "\n",
        "# The sum of all the ages\n",
        "# Uncomment the line below after running previous lines\n",
        "# df['age'].sum()\n",
        "\n",
        "# Mean preTestScore\n",
        "# Uncomment the line below after running previous lines\n",
        "# df['preTestScore'].mean()\n",
        "\n",
        "# Cumulative sum of preTestScores, moving from the rows from the top\n",
        "# Uncomment the line below after running previous lines\n",
        "# df['preTestScore'].cumsum()\n",
        "\n",
        "# Summary statistics on preTestScore\n",
        "# Uncomment the line below after running previous lines.\n",
        "# The output for this summary will be; the total number of rows there is in the column, the mean value for the data in the column, \n",
        "# the standard deviation of the data , min and max values of the data, the 25th 50th 75th percentile of the data.\n",
        "df['preTestScore'].describe()\n",
        "\n",
        "# Count the number of non-NA values\n",
        "# Uncomment the line below after running previous lines\n",
        "# df['preTestScore'].count()\n",
        "\n",
        "# Minimum value of preTestScore\n",
        "# Uncomment the line below after running previous lines\n",
        "# df['preTestScore'].min()\n",
        "\n",
        "# Maximum value of preTestScore\n",
        "# Uncomment the line below after running previous lines\n",
        "# df['preTestScore'].max()\n",
        "\n",
        "# Median value of preTestScore\n",
        "# Uncomment the line below after running previous lines\n",
        "# df['preTestScore'].median()\n",
        "\n",
        "# Sample variance of preTestScore values\n",
        "# Uncomment the line below after running previous lines\n",
        "# df['preTestScore'].var()\n",
        "\n",
        "# Sample standard deviation of preTestScore values\n",
        "# Uncomment the line below after running previous lines\n",
        "# df['preTestScore'].std()\n",
        "\n",
        "# Skewness of preTestScore values\n",
        "# Uncomment the line below after running previous lines\n",
        "# df['preTestScore'].skew()\n",
        "\n",
        "# Kurtosis of preTestScore values\n",
        "# Uncomment the line below after running previous lines\n",
        "# df['preTestScore'].kurt()\n",
        "\n",
        "# Correlation Matrix Of Values\n",
        "# A correlation matrix is a table showing correlation coefficents of different variables. In other words, it shows how different columns corelate to each other. The coefficients range between -1 and 1.\n",
        "# The closer the values are to -1 indicates that the variables do not correlate while the closer the values are to 1 indicates that the values have a high correlation.\n",
        "# A correlation matrix is very important when we are trying to understand our data as it serves as input for advanced analysis.\n",
        "# Uncomment the line below after running previous lines\n",
        "df.corr()"
      ],
      "execution_count": null,
      "outputs": [
        {
          "output_type": "execute_result",
          "data": {
            "text/html": [
              "<div>\n",
              "<style scoped>\n",
              "    .dataframe tbody tr th:only-of-type {\n",
              "        vertical-align: middle;\n",
              "    }\n",
              "\n",
              "    .dataframe tbody tr th {\n",
              "        vertical-align: top;\n",
              "    }\n",
              "\n",
              "    .dataframe thead th {\n",
              "        text-align: right;\n",
              "    }\n",
              "</style>\n",
              "<table border=\"1\" class=\"dataframe\">\n",
              "  <thead>\n",
              "    <tr style=\"text-align: right;\">\n",
              "      <th></th>\n",
              "      <th>age</th>\n",
              "      <th>preTestScore</th>\n",
              "      <th>postTestScore</th>\n",
              "    </tr>\n",
              "  </thead>\n",
              "  <tbody>\n",
              "    <tr>\n",
              "      <th>age</th>\n",
              "      <td>1.000000</td>\n",
              "      <td>-0.105651</td>\n",
              "      <td>0.328852</td>\n",
              "    </tr>\n",
              "    <tr>\n",
              "      <th>preTestScore</th>\n",
              "      <td>-0.105651</td>\n",
              "      <td>1.000000</td>\n",
              "      <td>0.378039</td>\n",
              "    </tr>\n",
              "    <tr>\n",
              "      <th>postTestScore</th>\n",
              "      <td>0.328852</td>\n",
              "      <td>0.378039</td>\n",
              "      <td>1.000000</td>\n",
              "    </tr>\n",
              "  </tbody>\n",
              "</table>\n",
              "</div>"
            ],
            "text/plain": [
              "                    age  preTestScore  postTestScore\n",
              "age            1.000000     -0.105651       0.328852\n",
              "preTestScore  -0.105651      1.000000       0.378039\n",
              "postTestScore  0.328852      0.378039       1.000000"
            ]
          },
          "metadata": {
            "tags": []
          },
          "execution_count": 142
        }
      ]
    },
    {
      "cell_type": "code",
      "metadata": {
        "id": "p7rE9W05qIGH",
        "colab": {
          "base_uri": "https://localhost:8080/"
        },
        "outputId": "ffc43f36-4ea8-45bf-c1e8-6501c18d8c88"
      },
      "source": [
        "# Example 2\n",
        "# Apply Operations To Groups In Pandas\n",
        "#\n",
        "\n",
        "# Create dataframe\n",
        "raw_data = {'regiment': ['Nighthawks', 'Nighthawks', 'Nighthawks', 'Nighthawks', 'Dragoons', 'Dragoons', 'Dragoons', 'Dragoons', 'Scouts', 'Scouts', 'Scouts', 'Scouts'], \n",
        "        'company': ['1st', '1st', '2nd', '2nd', '1st', '1st', '2nd', '2nd','1st', '1st', '2nd', '2nd'], \n",
        "        'name': ['Miller', 'Jacobson', 'Ali', 'Milner', 'Cooze', 'Jacon', 'Ryaner', 'Sone', 'Sloan', 'Piger', 'Riani', 'Ali'], \n",
        "        'preTestScore': [4, 24, 31, 2, 3, 4, 24, 31, 2, 3, 2, 3],\n",
        "        'postTestScore': [25, 94, 57, 62, 70, 25, 94, 57, 62, 70, 62, 70]}\n",
        "df = pd.DataFrame(raw_data, columns = ['regiment', 'company', 'name', 'preTestScore', 'postTestScore'])\n",
        "df\n",
        "\n",
        "# Create a groupby variable that groups preTestScores by regiment\n",
        "# Uncomment the line below after running previous lines\n",
        "# groupby_regiment = df['preTestScore'].groupby(df['regiment'])\n",
        "# groupby_regiment\n",
        "\n",
        "# Descriptive statistics by group\n",
        "# Uncomment the line below after running previous lines\n",
        "# df['preTestScore'].groupby(df['regiment']).describe()\n",
        "\n",
        "# Mean of each regiment’s preTestScore\n",
        "# Uncomment the line below after running previous lines\n",
        "# groupby_regiment.mean()\n",
        "\n",
        "# Mean preTestScores grouped by regiment and company\n",
        "# Uncomment the line below after running previous lines\n",
        "df['preTestScore'].groupby([df['regiment'], df['company']]).mean()\n",
        "\n",
        "# Number of observations in each regiment and company\n",
        "# Uncomment the line below after running previous lines\n",
        "# df.groupby(['regiment', 'company']).size()\n"
      ],
      "execution_count": null,
      "outputs": [
        {
          "output_type": "execute_result",
          "data": {
            "text/plain": [
              "regiment    company\n",
              "Dragoons    1st         3.5\n",
              "            2nd        27.5\n",
              "Nighthawks  1st        14.0\n",
              "            2nd        16.5\n",
              "Scouts      1st         2.5\n",
              "            2nd         2.5\n",
              "Name: preTestScore, dtype: float64"
            ]
          },
          "metadata": {
            "tags": []
          },
          "execution_count": 143
        }
      ]
    },
    {
      "cell_type": "code",
      "metadata": {
        "id": "LmExhKs_qjNX"
      },
      "source": [
        "# Example 3\n",
        "# Random Sampling Dataframe\n",
        "# \n",
        "\n",
        "raw_data = {'first_name': ['Jason', 'Molly', 'Tina', 'Jake', 'Amy'], \n",
        "        'last_name': ['Miller', 'Jacobson', 'Ali', 'Milner', 'Cooze'], \n",
        "        'age': [42, 52, 36, 24, 73], \n",
        "        'preTestScore': [4, 24, 31, 2, 3],\n",
        "        'postTestScore': [25, 94, 57, 62, 70]}\n",
        "df = pd.DataFrame(raw_data, columns = ['first_name', 'last_name', 'age', 'preTestScore', 'postTestScore'])\n",
        "df\n",
        "\n",
        "# Select a random subset of 2 without replacement\n",
        "# Uncomment the line below after running previous lines\n",
        "# df.take(np.random.permutation(len(df))[:2])"
      ],
      "execution_count": null,
      "outputs": []
    },
    {
      "cell_type": "code",
      "metadata": {
        "id": "iHg3qJbYq4iY"
      },
      "source": [
        "# Example 4\n",
        "# Pivot Tables In pandas\n",
        "#\n",
        "\n",
        "# Create dataframe\n",
        "raw_data = {'regiment': ['Nighthawks', 'Nighthawks', 'Nighthawks', 'Nighthawks', 'Dragoons', 'Dragoons', 'Dragoons', 'Dragoons', 'Scouts', 'Scouts', 'Scouts', 'Scouts'], \n",
        "        'company': ['1st', '1st', '2nd', '2nd', '1st', '1st', '2nd', '2nd','1st', '1st', '2nd', '2nd'], \n",
        "        'TestScore': [4, 24, 31, 2, 3, 4, 24, 31, 2, 3, 2, 3]}\n",
        "df = pd.DataFrame(raw_data, columns = ['regiment', 'company', 'TestScore'])\n",
        "df\n",
        "\n",
        "# Create a pivot table of group means, by company and regiment\n",
        "# Uncomment the line below after running previous lines\n",
        "# pd.pivot_table(df, index=['regiment','company'], aggfunc='mean')\n",
        "\n",
        "# Create a pivot table of group score counts, by company and regiments\n",
        "# Uncomment the line below after running previous lines\n",
        "# df.pivot_table(index=['regiment','company'], aggfunc='count')"
      ],
      "execution_count": null,
      "outputs": []
    },
    {
      "cell_type": "markdown",
      "metadata": {
        "id": "yOI_UEXDs0XI"
      },
      "source": [
        "### <font color=\"green\">1.5 Challenges</font>"
      ]
    },
    {
      "cell_type": "code",
      "metadata": {
        "id": "lK1ar12Ks7xI"
      },
      "source": [
        "# Challenge 1\n",
        "# Using the given dataset, calculate the descriptive statistics of the total population\n",
        "# url = http://bit.ly/KePopulationDistribution1\n",
        "#\n",
        "\n",
        "# The total population in Kenya\n",
        "OUR CODE GOES HERE\n",
        "\n",
        "# The average population per urban center \n",
        " \n",
        "\n",
        "# The total urban population fo the cities \n",
        " \n",
        "\n",
        "# Summary statistics on total population\n",
        " \n",
        "\n",
        "# Count the number municipalities in the country\n",
        "\n",
        "\n",
        "# Which municipality/city/other/town is the most sparcely populated \n",
        "\n",
        "\n",
        "# Which municipality/city/other/town is the most densely populated \n",
        "\n",
        "# Median value of the total population \n",
        "\n",
        "\n",
        "# Sample variance of the total population\n",
        "\n",
        "\n",
        "# Sample standard deviation of the total population\n",
        "\n",
        "\n",
        "# Correlation of the variables in the given dataset\n"
      ],
      "execution_count": null,
      "outputs": []
    },
    {
      "cell_type": "code",
      "metadata": {
        "id": "C8WhwyH2s9VI"
      },
      "source": [
        "# Challenge 2\n",
        "# Using the given dictionary below, find out the mean and median of the points during the Years\n",
        "# \n",
        "\n",
        "kenyan_premier_league = {'Team': ['Gor Mahia', 'AFC', 'Mathare', 'Ushuru', 'Kariobangi Sharks',\n",
        "   'Tusker', 'Bandari', 'Mumias', 'Thika Utd', 'Kakamega', 'Nakuru Utd', 'Kibera Utd'], \n",
        "   'Year': [2018, 2019, 2017, 2019, 2017, 2019, 2016, 2017, 2016, 2018, 2019, 2017],\n",
        "   'Points':[87, 78, 86, 67, 74, 81, 75, 78, 69, 70, 80, 69]}\n",
        "\n",
        "OUR CODE GOES HERE"
      ],
      "execution_count": null,
      "outputs": []
    },
    {
      "cell_type": "code",
      "metadata": {
        "id": "-RqruGXas-pK"
      },
      "source": [
        "# Challenge 3\n",
        "# Randomly select a municipality without replacement from the following dataset\n",
        "# url = http://bit.ly/KePopulationDistribution1\n",
        "# \n",
        "OUR CODE GOES HERE"
      ],
      "execution_count": null,
      "outputs": []
    },
    {
      "cell_type": "code",
      "metadata": {
        "id": "CSmCEJ2etAjt"
      },
      "source": [
        "# Challenge 4\n",
        "# From the given dataset, create a pivot table of sum total population by District \n",
        "#\n",
        "OUR CODE GOES HERE"
      ],
      "execution_count": null,
      "outputs": []
    },
    {
      "cell_type": "code",
      "metadata": {
        "id": "giPMZ4IetBne"
      },
      "source": [
        "# Challenge 5\n",
        "# From the given dataset, create a pivot table of sum total population by District \n",
        "# url = http://bit.ly/KePopulationDistribution1\n",
        "# \n",
        "OUR CODE GOES HERE"
      ],
      "execution_count": null,
      "outputs": []
    }
  ]
}